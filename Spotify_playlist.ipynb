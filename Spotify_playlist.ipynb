{
  "nbformat": 4,
  "nbformat_minor": 0,
  "metadata": {
    "colab": {
      "provenance": [],
      "machine_shape": "hm",
      "gpuType": "V100"
    },
    "kernelspec": {
      "name": "python3",
      "display_name": "Python 3"
    },
    "language_info": {
      "name": "python"
    },
    "accelerator": "GPU",
    "widgets": {
      "application/vnd.jupyter.widget-state+json": {
        "00bd52cab86c45e4af25320f84e4c1b8": {
          "model_module": "@jupyter-widgets/controls",
          "model_name": "TextModel",
          "model_module_version": "1.5.0",
          "state": {
            "_dom_classes": [],
            "_model_module": "@jupyter-widgets/controls",
            "_model_module_version": "1.5.0",
            "_model_name": "TextModel",
            "_view_count": null,
            "_view_module": "@jupyter-widgets/controls",
            "_view_module_version": "1.5.0",
            "_view_name": "TextView",
            "continuous_update": true,
            "description": "Search:",
            "description_tooltip": null,
            "disabled": false,
            "layout": "IPY_MODEL_70c103376a33422c8cac6f5e97486fc6",
            "placeholder": "Type a song name",
            "style": "IPY_MODEL_aa6d044c7e8d4a21aaf47fe9d157f81f",
            "value": "God's"
          }
        },
        "70c103376a33422c8cac6f5e97486fc6": {
          "model_module": "@jupyter-widgets/base",
          "model_name": "LayoutModel",
          "model_module_version": "1.2.0",
          "state": {
            "_model_module": "@jupyter-widgets/base",
            "_model_module_version": "1.2.0",
            "_model_name": "LayoutModel",
            "_view_count": null,
            "_view_module": "@jupyter-widgets/base",
            "_view_module_version": "1.2.0",
            "_view_name": "LayoutView",
            "align_content": null,
            "align_items": null,
            "align_self": null,
            "border": null,
            "bottom": null,
            "display": null,
            "flex": null,
            "flex_flow": null,
            "grid_area": null,
            "grid_auto_columns": null,
            "grid_auto_flow": null,
            "grid_auto_rows": null,
            "grid_column": null,
            "grid_gap": null,
            "grid_row": null,
            "grid_template_areas": null,
            "grid_template_columns": null,
            "grid_template_rows": null,
            "height": null,
            "justify_content": null,
            "justify_items": null,
            "left": null,
            "margin": null,
            "max_height": null,
            "max_width": null,
            "min_height": null,
            "min_width": null,
            "object_fit": null,
            "object_position": null,
            "order": null,
            "overflow": null,
            "overflow_x": null,
            "overflow_y": null,
            "padding": null,
            "right": null,
            "top": null,
            "visibility": null,
            "width": null
          }
        },
        "aa6d044c7e8d4a21aaf47fe9d157f81f": {
          "model_module": "@jupyter-widgets/controls",
          "model_name": "DescriptionStyleModel",
          "model_module_version": "1.5.0",
          "state": {
            "_model_module": "@jupyter-widgets/controls",
            "_model_module_version": "1.5.0",
            "_model_name": "DescriptionStyleModel",
            "_view_count": null,
            "_view_module": "@jupyter-widgets/base",
            "_view_module_version": "1.2.0",
            "_view_name": "StyleView",
            "description_width": ""
          }
        },
        "1f9edae771f64ce1be2484db07772b5d": {
          "model_module": "@jupyter-widgets/controls",
          "model_name": "ButtonModel",
          "model_module_version": "1.5.0",
          "state": {
            "_dom_classes": [],
            "_model_module": "@jupyter-widgets/controls",
            "_model_module_version": "1.5.0",
            "_model_name": "ButtonModel",
            "_view_count": null,
            "_view_module": "@jupyter-widgets/controls",
            "_view_module_version": "1.5.0",
            "_view_name": "ButtonView",
            "button_style": "",
            "description": "Search",
            "disabled": false,
            "icon": "",
            "layout": "IPY_MODEL_c6bcf8c43e2447b385f13ff7143d23b9",
            "style": "IPY_MODEL_a4c6fc1663d0488cab603faae6b62b6e",
            "tooltip": ""
          }
        },
        "c6bcf8c43e2447b385f13ff7143d23b9": {
          "model_module": "@jupyter-widgets/base",
          "model_name": "LayoutModel",
          "model_module_version": "1.2.0",
          "state": {
            "_model_module": "@jupyter-widgets/base",
            "_model_module_version": "1.2.0",
            "_model_name": "LayoutModel",
            "_view_count": null,
            "_view_module": "@jupyter-widgets/base",
            "_view_module_version": "1.2.0",
            "_view_name": "LayoutView",
            "align_content": null,
            "align_items": null,
            "align_self": null,
            "border": null,
            "bottom": null,
            "display": null,
            "flex": null,
            "flex_flow": null,
            "grid_area": null,
            "grid_auto_columns": null,
            "grid_auto_flow": null,
            "grid_auto_rows": null,
            "grid_column": null,
            "grid_gap": null,
            "grid_row": null,
            "grid_template_areas": null,
            "grid_template_columns": null,
            "grid_template_rows": null,
            "height": null,
            "justify_content": null,
            "justify_items": null,
            "left": null,
            "margin": null,
            "max_height": null,
            "max_width": null,
            "min_height": null,
            "min_width": null,
            "object_fit": null,
            "object_position": null,
            "order": null,
            "overflow": null,
            "overflow_x": null,
            "overflow_y": null,
            "padding": null,
            "right": null,
            "top": null,
            "visibility": null,
            "width": null
          }
        },
        "a4c6fc1663d0488cab603faae6b62b6e": {
          "model_module": "@jupyter-widgets/controls",
          "model_name": "ButtonStyleModel",
          "model_module_version": "1.5.0",
          "state": {
            "_model_module": "@jupyter-widgets/controls",
            "_model_module_version": "1.5.0",
            "_model_name": "ButtonStyleModel",
            "_view_count": null,
            "_view_module": "@jupyter-widgets/base",
            "_view_module_version": "1.2.0",
            "_view_name": "StyleView",
            "button_color": null,
            "font_weight": ""
          }
        },
        "7c1e1188a8894957905cfc687de199dc": {
          "model_module": "@jupyter-widgets/controls",
          "model_name": "DropdownModel",
          "model_module_version": "1.5.0",
          "state": {
            "_dom_classes": [],
            "_model_module": "@jupyter-widgets/controls",
            "_model_module_version": "1.5.0",
            "_model_name": "DropdownModel",
            "_options_labels": [
              "(\"God's Got It\", 'Old Crow Medicine Show', 'Big Iron World', '0kinrsx7DImDv4wgnMJJK2')",
              "(\"God's Country\", 'Blake Shelton', 'Single Saturday Night - Country Songs', '6hES6A4ZOL8MzYpULEfsoZ')",
              "(\"God's Mercy\", 'Restrained;GridKiller', \"God's Mercy\", '0BePC0zLq0pJLKknXoyHNS')",
              "(\"Dead God's Son\", 'Marko Hietala', 'Pyre of the Black Heart', '71x2VMu2qnMgeORgTZVqIT')",
              "(\"God's Plan\", 'Drake', 'Scorpion', '6DCZcSspjsKoFjzjrWoCdn')",
              "(\"God's Gonna Get 'Cha (For That)\", 'George Jones;Tammy Wynette', 'George Jones and Tammy Wynette - 16 Biggest Hits', '156u02R79yLMycBxoLAzhS')",
              "(\"God's Gonna Cut You Down\", 'Marilyn Manson', \"God's Gonna Cut You Down\", '0FkcmHJOsWE80rlpzfT0Pq')",
              "(\"God's Guest\", 'ArtSaves', 'Empty Sounds', '5nKcasiyVBnu0qHvCoC26t')",
              "(\"God's Gift\", 'Jahshii;Kim Kelly', \"God's Gift\", '5pDnJvkwG3mzcPzBkHNVE1')",
              "(\"This is God's House\", 'Paul Cardall', 'Primary Worship', '6YaKD6M6fcLH5boPdcPK7G')"
            ],
            "_view_count": null,
            "_view_module": "@jupyter-widgets/controls",
            "_view_module_version": "1.5.0",
            "_view_name": "DropdownView",
            "description": "Results:",
            "description_tooltip": null,
            "disabled": false,
            "index": 4,
            "layout": "IPY_MODEL_993e30338371491db69cb5b88e14c815",
            "style": "IPY_MODEL_2c664aaf47d0403a91af506f68f89f73"
          }
        },
        "993e30338371491db69cb5b88e14c815": {
          "model_module": "@jupyter-widgets/base",
          "model_name": "LayoutModel",
          "model_module_version": "1.2.0",
          "state": {
            "_model_module": "@jupyter-widgets/base",
            "_model_module_version": "1.2.0",
            "_model_name": "LayoutModel",
            "_view_count": null,
            "_view_module": "@jupyter-widgets/base",
            "_view_module_version": "1.2.0",
            "_view_name": "LayoutView",
            "align_content": null,
            "align_items": null,
            "align_self": null,
            "border": null,
            "bottom": null,
            "display": null,
            "flex": null,
            "flex_flow": null,
            "grid_area": null,
            "grid_auto_columns": null,
            "grid_auto_flow": null,
            "grid_auto_rows": null,
            "grid_column": null,
            "grid_gap": null,
            "grid_row": null,
            "grid_template_areas": null,
            "grid_template_columns": null,
            "grid_template_rows": null,
            "height": null,
            "justify_content": null,
            "justify_items": null,
            "left": null,
            "margin": null,
            "max_height": null,
            "max_width": null,
            "min_height": null,
            "min_width": null,
            "object_fit": null,
            "object_position": null,
            "order": null,
            "overflow": null,
            "overflow_x": null,
            "overflow_y": null,
            "padding": null,
            "right": null,
            "top": null,
            "visibility": null,
            "width": null
          }
        },
        "2c664aaf47d0403a91af506f68f89f73": {
          "model_module": "@jupyter-widgets/controls",
          "model_name": "DescriptionStyleModel",
          "model_module_version": "1.5.0",
          "state": {
            "_model_module": "@jupyter-widgets/controls",
            "_model_module_version": "1.5.0",
            "_model_name": "DescriptionStyleModel",
            "_view_count": null,
            "_view_module": "@jupyter-widgets/base",
            "_view_module_version": "1.2.0",
            "_view_name": "StyleView",
            "description_width": ""
          }
        },
        "46fe9142c329499aa438dacb8315bb81": {
          "model_module": "@jupyter-widgets/output",
          "model_name": "OutputModel",
          "model_module_version": "1.0.0",
          "state": {
            "_dom_classes": [],
            "_model_module": "@jupyter-widgets/output",
            "_model_module_version": "1.0.0",
            "_model_name": "OutputModel",
            "_view_count": null,
            "_view_module": "@jupyter-widgets/output",
            "_view_module_version": "1.0.0",
            "_view_name": "OutputView",
            "layout": "IPY_MODEL_480a8db22e90450ea4b8e80fa9797034",
            "msg_id": "",
            "outputs": [
              {
                "output_type": "stream",
                "name": "stdout",
                "text": [
                  "Track Name: God's Plan\n",
                  "Artist: Drake\n",
                  "Album: Scorpion\n",
                  "Track ID: 6DCZcSspjsKoFjzjrWoCdn\n"
                ]
              },
              {
                "output_type": "stream",
                "name": "stdout",
                "text": [
                  "+-----------------------------------------+------------------------+----------------------------------------------------+\n",
                  "|track_name                               |artists                 |album_name                                          |\n",
                  "+-----------------------------------------+------------------------+----------------------------------------------------+\n",
                  "|Gangsta's Paradise                       |Coolio;L.V.             |Gangsta's Paradise                                  |\n",
                  "|HIGHEST IN THE ROOM                      |Travis Scott            |HIGHEST IN THE ROOM                                 |\n",
                  "|Praise The Lord (Da Shine) (feat. Skepta)|A$AP Rocky;Skepta       |TESTING                                             |\n",
                  "|See You Again (feat. Charlie Puth)       |Wiz Khalifa;Charlie Puth|See You Again (feat. Charlie Puth)                  |\n",
                  "|SAD!                                     |XXXTENTACION            |?                                                   |\n",
                  "|WAIT FOR U (feat. Drake & Tems)          |Future;Drake;Tems       |I NEVER LIKED YOU                                   |\n",
                  "|Stan                                     |Eminem;Dido             |The Marshall Mathers LP                             |\n",
                  "|Sinner                                   |King                    |Khwabeeda                                           |\n",
                  "|Sakkarakatti                             |Hiphop Tamizha          |Meesaya Murukku (Original Motion Picture Soundtrack)|\n",
                  "|Thousand Miles                           |The Kid LAROI           |Thousand Miles                                      |\n",
                  "+-----------------------------------------+------------------------+----------------------------------------------------+\n",
                  "\n"
                ]
              }
            ]
          }
        },
        "480a8db22e90450ea4b8e80fa9797034": {
          "model_module": "@jupyter-widgets/base",
          "model_name": "LayoutModel",
          "model_module_version": "1.2.0",
          "state": {
            "_model_module": "@jupyter-widgets/base",
            "_model_module_version": "1.2.0",
            "_model_name": "LayoutModel",
            "_view_count": null,
            "_view_module": "@jupyter-widgets/base",
            "_view_module_version": "1.2.0",
            "_view_name": "LayoutView",
            "align_content": null,
            "align_items": null,
            "align_self": null,
            "border": null,
            "bottom": null,
            "display": null,
            "flex": null,
            "flex_flow": null,
            "grid_area": null,
            "grid_auto_columns": null,
            "grid_auto_flow": null,
            "grid_auto_rows": null,
            "grid_column": null,
            "grid_gap": null,
            "grid_row": null,
            "grid_template_areas": null,
            "grid_template_columns": null,
            "grid_template_rows": null,
            "height": null,
            "justify_content": null,
            "justify_items": null,
            "left": null,
            "margin": null,
            "max_height": null,
            "max_width": null,
            "min_height": null,
            "min_width": null,
            "object_fit": null,
            "object_position": null,
            "order": null,
            "overflow": null,
            "overflow_x": null,
            "overflow_y": null,
            "padding": null,
            "right": null,
            "top": null,
            "visibility": null,
            "width": null
          }
        }
      }
    }
  },
  "cells": [
    {
      "cell_type": "code",
      "source": [
        "#!pip install pyspark"
      ],
      "metadata": {
        "colab": {
          "base_uri": "https://localhost:8080/",
          "height": 0
        },
        "id": "rg5O9HqWmujZ",
        "outputId": "8c4855f3-5cf0-463d-cfc0-3df60d9a8795"
      },
      "execution_count": 1,
      "outputs": [
        {
          "output_type": "stream",
          "name": "stdout",
          "text": [
            "Collecting pyspark\n",
            "  Downloading pyspark-3.5.1.tar.gz (317.0 MB)\n",
            "\u001b[2K     \u001b[90m━━━━━━━━━━━━━━━━━━━━━━━━━━━━━━━━━━━━━━━━\u001b[0m \u001b[32m317.0/317.0 MB\u001b[0m \u001b[31m3.9 MB/s\u001b[0m eta \u001b[36m0:00:00\u001b[0m\n",
            "\u001b[?25h  Preparing metadata (setup.py) ... \u001b[?25l\u001b[?25hdone\n",
            "Requirement already satisfied: py4j==0.10.9.7 in /usr/local/lib/python3.10/dist-packages (from pyspark) (0.10.9.7)\n",
            "Building wheels for collected packages: pyspark\n",
            "  Building wheel for pyspark (setup.py) ... \u001b[?25l\u001b[?25hdone\n",
            "  Created wheel for pyspark: filename=pyspark-3.5.1-py2.py3-none-any.whl size=317488493 sha256=a8fad28035e732e4cd3556eaa6d4b1e2a4a74d1344d0a89d424a83967ed1f076\n",
            "  Stored in directory: /root/.cache/pip/wheels/80/1d/60/2c256ed38dddce2fdd93be545214a63e02fbd8d74fb0b7f3a6\n",
            "Successfully built pyspark\n",
            "Installing collected packages: pyspark\n",
            "Successfully installed pyspark-3.5.1\n"
          ]
        }
      ]
    },
    {
      "cell_type": "markdown",
      "source": [
        "#Mount Shared Drive"
      ],
      "metadata": {
        "id": "A9UM35ytmL8Y"
      }
    },
    {
      "cell_type": "markdown",
      "source": [
        "Mount a google shared drive in order to develop ETL for model developmentation"
      ],
      "metadata": {
        "id": "unYDBKatxY29"
      }
    },
    {
      "cell_type": "code",
      "execution_count": 2,
      "metadata": {
        "id": "3sJPdcVevcag",
        "colab": {
          "base_uri": "https://localhost:8080/",
          "height": 0
        },
        "outputId": "86091016-10d1-466a-c688-c136e659c203"
      },
      "outputs": [
        {
          "output_type": "stream",
          "name": "stdout",
          "text": [
            "Mounted at /content/gdrive\n"
          ]
        }
      ],
      "source": [
        "import pandas as pd\n",
        "from google.colab import drive\n",
        "drive.mount('/content/gdrive')"
      ]
    },
    {
      "cell_type": "markdown",
      "source": [
        "# Create Spark Session"
      ],
      "metadata": {
        "id": "dsgwlsQOlM2l"
      }
    },
    {
      "cell_type": "markdown",
      "source": [
        "Create a spark session called spotify which will handle Spark functionalities."
      ],
      "metadata": {
        "id": "VuveuR_DxfQ8"
      }
    },
    {
      "cell_type": "code",
      "source": [
        "from pyspark.sql import SparkSession\n",
        "\n",
        "# Create Spark Enviroment\n",
        "ss = SparkSession.builder.appName(\"spotify\").getOrCreate()"
      ],
      "metadata": {
        "id": "XPsiLchalP2n"
      },
      "execution_count": 3,
      "outputs": []
    },
    {
      "cell_type": "markdown",
      "source": [
        "#Sample Playlist Data"
      ],
      "metadata": {
        "id": "FBjUJSOOFxFn"
      }
    },
    {
      "cell_type": "markdown",
      "source": [
        "The dataset filled with a million playlists consists of 33.54 GB of json data files. On a cluster of servers, it should not be an issue, however, we are limited to a pro version of Google Colab which cannot handle the large dataset. We, therefore, need to resample the dataset to obtain a smaller working size. The sample size chosen was 5 files consisting of the portion of the playlist within the dataset. This, however, is a more manageable data size for our computational power."
      ],
      "metadata": {
        "id": "breG8WAIxpgn"
      }
    },
    {
      "cell_type": "code",
      "source": [
        "import os\n",
        "import random\n",
        "import re\n",
        "import shutil\n",
        "\n",
        "#============= Sample Data ================\n",
        "def random_sample_from_folder(folder_path, sample_size=10):\n",
        "    \"\"\"\n",
        "    Select a random sample of files from the specified folder.\n",
        "\n",
        "    :param folder_path: Path to the folder from which to sample files.\n",
        "    :param sample_size: Number of files to sample.\n",
        "    :return: A list of paths to the randomly sampled files.\n",
        "    \"\"\"\n",
        "    # List all files in the folder\n",
        "    all_files = [os.path.join(folder_path, f) for f in os.listdir(folder_path) if os.path.isfile(os.path.join(folder_path, f))]\n",
        "\n",
        "    # Determine the sample size (can't be larger than the number of files)\n",
        "    actual_sample_size = min(sample_size, len(all_files))\n",
        "\n",
        "    # Randomly sample files\n",
        "    sampled_files = random.sample(all_files, actual_sample_size)\n",
        "\n",
        "    return sampled_files\n",
        "\n",
        "# Create Sample\n",
        "folder_path = \"/content/gdrive/Shareddrives/737_Project/spotify_million_playlist_dataset/data/\"\n",
        "sample_size = 5  # Adjust as needed\n",
        "sampled_files = random_sample_from_folder(folder_path, sample_size)\n",
        "\n",
        "\n",
        "#============= Abstract File Name ================\n",
        "# Regular expression pattern to match the file name at the end of the path\n",
        "pattern = r'/([^/]+\\.json)$'\n",
        "\n",
        "# Initialize a list to hold the matched file names\n",
        "matched_file_names = []\n",
        "\n",
        "# Iterate over the file paths and match the pattern\n",
        "for file_path in sampled_files:\n",
        "    match = re.search(pattern, file_path)\n",
        "    if match:\n",
        "        matched_file_names.append(match.group(1))  # Append the matched file name\n",
        "\n",
        "# Print all matched file names\n",
        "#for file_name in matched_file_names:\n",
        "#    print(file_name)\n",
        "\n",
        "#print(len(sampled_files))\n",
        "\n",
        "#============= Move Data To Sampled Path ================\n",
        "source_folder = '/content/gdrive/Shareddrives/737_Project/spotify_million_playlist_dataset/data/'\n",
        "destination_folder = '/content/gdrive/Shareddrives/737_Project/spotify_million_playlist_dataset/sampled_data'\n",
        "\n",
        "# Create New File\n",
        "if not os.path.exists(destination_folder):\n",
        "    os.makedirs(destination_folder)\n",
        "\n",
        "# Move each file to the destination folder\n",
        "for file in matched_file_names:\n",
        "  # Construct the full file path\n",
        "  source_file_path = os.path.join(source_folder, file)\n",
        "  destination_file_path = os.path.join(destination_folder, file)\n",
        "\n",
        "  # Move the file\n",
        "  shutil.move(source_file_path, destination_file_path)"
      ],
      "metadata": {
        "colab": {
          "base_uri": "https://localhost:8080/",
          "height": 0
        },
        "id": "ytDjsmT4xYsk",
        "outputId": "411edfbe-4dc0-4691-8025-e1686556e823"
      },
      "execution_count": 5,
      "outputs": [
        {
          "output_type": "stream",
          "name": "stdout",
          "text": [
            "5\n"
          ]
        }
      ]
    },
    {
      "cell_type": "markdown",
      "source": [
        "## Load sampled data in to Pyspark"
      ],
      "metadata": {
        "id": "Rx9yoyW5GDHH"
      }
    },
    {
      "cell_type": "markdown",
      "source": [
        "This loads our data files within a sampled folder and reads it to a spark data frame. It can handle json file as seen in the \"View of sampled data files by track_uri\" within the next block"
      ],
      "metadata": {
        "id": "1ktCpOmvypb0"
      }
    },
    {
      "cell_type": "code",
      "source": [
        "# Folder Path of Playlist\n",
        "folder_path = \"/content/gdrive/Shareddrives/737_Project/spotify_million_playlist_dataset/sampled_data/*\"\n",
        "\n",
        "df_playlist = ss.read.option(\"multiline\", \"true\").json(folder_path)\n",
        "#df = ss.read.option(\"mergeSchema\", \"true\").json(folder_path)"
      ],
      "metadata": {
        "id": "QmksMFZmmLcY"
      },
      "execution_count": 53,
      "outputs": []
    },
    {
      "cell_type": "markdown",
      "source": [
        "## View of sampled data files by track_uri"
      ],
      "metadata": {
        "id": "xIpwF6iMyiSr"
      }
    },
    {
      "cell_type": "markdown",
      "source": [
        "Here we can see that the files have been properly loaded as we can witness pid and track_uri. Pid is the playlist id and the track_uri is the track identifier. This is for future implementations to build out song recommendations for playlists. The current implementation only has recommendations based on a single song."
      ],
      "metadata": {
        "id": "0K2aNmZzy5uz"
      }
    },
    {
      "cell_type": "code",
      "source": [
        "from pyspark.sql.functions import explode, col\n",
        "from pyspark.sql.functions import lit\n",
        "tracks_df = df_playlist.select(explode(\"playlists\").alias(\"playlist\")) \\\n",
        "              .select(\"playlist.pid\", explode(\"playlist.tracks\").alias(\"track\")) \\\n",
        "              .select(\"pid\", \"track.track_uri\")\n",
        "\n",
        "#tracks_df = tracks_df.withColumn(\"rating\", lit(1))\n",
        "tracks_df.show()"
      ],
      "metadata": {
        "colab": {
          "base_uri": "https://localhost:8080/",
          "height": 0
        },
        "id": "fiIYDeFIF5jF",
        "outputId": "a1c0e564-1d06-4768-9c03-970b8930d9dd"
      },
      "execution_count": 54,
      "outputs": [
        {
          "output_type": "stream",
          "name": "stdout",
          "text": [
            "+------+--------------------+\n",
            "|   pid|           track_uri|\n",
            "+------+--------------------+\n",
            "|150000|spotify:track:5CB...|\n",
            "|150000|spotify:track:4Sn...|\n",
            "|150000|spotify:track:50Y...|\n",
            "|150000|spotify:track:636...|\n",
            "|150000|spotify:track:2ay...|\n",
            "|150000|spotify:track:5IM...|\n",
            "|150000|spotify:track:5C9...|\n",
            "|150000|spotify:track:4tD...|\n",
            "|150000|spotify:track:15W...|\n",
            "|150000|spotify:track:2kD...|\n",
            "|150000|spotify:track:3yt...|\n",
            "|150000|spotify:track:50K...|\n",
            "|150000|spotify:track:0TY...|\n",
            "|150000|spotify:track:0fy...|\n",
            "|150000|spotify:track:2bh...|\n",
            "|150001|spotify:track:76V...|\n",
            "|150001|spotify:track:6eF...|\n",
            "|150001|spotify:track:6Jn...|\n",
            "|150001|spotify:track:0CK...|\n",
            "|150001|spotify:track:7dC...|\n",
            "+------+--------------------+\n",
            "only showing top 20 rows\n",
            "\n"
          ]
        }
      ]
    },
    {
      "cell_type": "markdown",
      "source": [
        "#Recommend Users who like a track to an Artist"
      ],
      "metadata": {
        "id": "olSngyxWJwUl"
      }
    },
    {
      "cell_type": "markdown",
      "source": [
        "## Read Music Data"
      ],
      "metadata": {
        "id": "3lqwpmdDlHuN"
      }
    },
    {
      "cell_type": "markdown",
      "source": [
        "Load the data into spark and clean out columns that won't be need in model developmentation."
      ],
      "metadata": {
        "id": "hFf9L97_5MQo"
      }
    },
    {
      "cell_type": "code",
      "source": [
        "from pyspark.sql.types import StructType, StructField, IntegerType, StringType, FloatType, BooleanType\n",
        "\n",
        "# Load dataset\n",
        "spotify_song_df = ss.read.csv(\"/content/gdrive/Shareddrives/737_Project/spotify_million_playlist_dataset/spotify_data.csv\", header=True, inferSchema = True)\n",
        "col_drop = ['_c0','key', 'duration_ms', 'time_signature'] #['Unnamed: 0','artist_name', 'track_name', 'key', 'duration_ms', 'time_signature']\n",
        "spotify_song_df = spotify_song_df.drop(*col_drop)\n",
        "spotify_song_df.printSchema()"
      ],
      "metadata": {
        "colab": {
          "base_uri": "https://localhost:8080/",
          "height": 0
        },
        "id": "QRNa87IvlZzI",
        "outputId": "d6c6b56c-badf-4388-f49b-41884fcb6d64"
      },
      "execution_count": 4,
      "outputs": [
        {
          "output_type": "stream",
          "name": "stdout",
          "text": [
            "root\n",
            " |-- track_id: string (nullable = true)\n",
            " |-- artists: string (nullable = true)\n",
            " |-- album_name: string (nullable = true)\n",
            " |-- track_name: string (nullable = true)\n",
            " |-- popularity: string (nullable = true)\n",
            " |-- explicit: string (nullable = true)\n",
            " |-- danceability: string (nullable = true)\n",
            " |-- energy: string (nullable = true)\n",
            " |-- loudness: string (nullable = true)\n",
            " |-- mode: string (nullable = true)\n",
            " |-- speechiness: string (nullable = true)\n",
            " |-- acousticness: string (nullable = true)\n",
            " |-- instrumentalness: double (nullable = true)\n",
            " |-- liveness: string (nullable = true)\n",
            " |-- valence: string (nullable = true)\n",
            " |-- tempo: double (nullable = true)\n",
            " |-- track_genre: string (nullable = true)\n",
            "\n"
          ]
        }
      ]
    },
    {
      "cell_type": "code",
      "source": [
        "spotify_song_df.show(truncate = False)"
      ],
      "metadata": {
        "colab": {
          "base_uri": "https://localhost:8080/",
          "height": 0
        },
        "id": "aXYN0IAOrzIs",
        "outputId": "ba4d4844-9cb5-49a2-91c3-2003bae33725"
      },
      "execution_count": 5,
      "outputs": [
        {
          "output_type": "stream",
          "name": "stdout",
          "text": [
            "+----------------------+------------------------------------+------------------------------------------------------+--------------------------------+----------+--------+------------+------+--------+----+-----------+------------+----------------+--------+-------+-------+-----------+\n",
            "|track_id              |artists                             |album_name                                            |track_name                      |popularity|explicit|danceability|energy|loudness|mode|speechiness|acousticness|instrumentalness|liveness|valence|tempo  |track_genre|\n",
            "+----------------------+------------------------------------+------------------------------------------------------+--------------------------------+----------+--------+------------+------+--------+----+-----------+------------+----------------+--------+-------+-------+-----------+\n",
            "|5SuOikwiRyPMVoIQDJUgSV|Gen Hoshino                         |Comedy                                                |Comedy                          |73        |False   |0.676       |0.461 |-6.746  |0   |0.143      |0.0322      |1.01E-6         |0.358   |0.715  |87.917 |acoustic   |\n",
            "|4qPNDBW1i3p13qLCt0Ki3A|Ben Woodward                        |Ghost (Acoustic)                                      |Ghost - Acoustic                |55        |False   |0.42        |0.166 |-17.235 |1   |0.0763     |0.924       |5.56E-6         |0.101   |0.267  |77.489 |acoustic   |\n",
            "|1iJBSr7s7jYXzM8EGcbK5b|Ingrid Michaelson;ZAYN              |To Begin Again                                        |To Begin Again                  |57        |False   |0.438       |0.359 |-9.734  |1   |0.0557     |0.21        |0.0             |0.117   |0.12   |76.332 |acoustic   |\n",
            "|6lfxq3CG4xtTiEg7opyCyx|Kina Grannis                        |Crazy Rich Asians (Original Motion Picture Soundtrack)|Can't Help Falling In Love      |71        |False   |0.266       |0.0596|-18.515 |1   |0.0363     |0.905       |7.07E-5         |0.132   |0.143  |181.74 |acoustic   |\n",
            "|5vjLSffimiIP26QG5WcN2K|Chord Overstreet                    |Hold On                                               |Hold On                         |82        |False   |0.618       |0.443 |-9.681  |1   |0.0526     |0.469       |0.0             |0.0829  |0.167  |119.949|acoustic   |\n",
            "|01MVOl9KtVTNfFiBU9I7dc|Tyrone Wells                        |Days I Will Remember                                  |Days I Will Remember            |58        |False   |0.688       |0.481 |-8.807  |1   |0.105      |0.289       |0.0             |0.189   |0.666  |98.017 |acoustic   |\n",
            "|6Vc5wAMmXdKIAM7WUoEb7N|A Great Big World;Christina Aguilera|Is There Anybody Out There?                           |Say Something                   |74        |False   |0.407       |0.147 |-8.822  |1   |0.0355     |0.857       |2.89E-6         |0.0913  |0.0765 |141.284|acoustic   |\n",
            "|1EzrEOXmMH3G43AXT1y7pA|Jason Mraz                          |We Sing. We Dance. We Steal Things.                   |I'm Yours                       |80        |False   |0.703       |0.444 |-9.331  |1   |0.0417     |0.559       |0.0             |0.0973  |0.712  |150.96 |acoustic   |\n",
            "|0IktbUcnAGrvD03AWnz3Q8|Jason Mraz;Colbie Caillat           |We Sing. We Dance. We Steal Things.                   |Lucky                           |74        |False   |0.625       |0.414 |-8.7    |1   |0.0369     |0.294       |0.0             |0.151   |0.669  |130.088|acoustic   |\n",
            "|7k9GuJYLp2AzqokyEdwEw2|Ross Copperman                      |Hunger                                                |Hunger                          |56        |False   |0.442       |0.632 |-6.77   |1   |0.0295     |0.426       |0.00419         |0.0735  |0.196  |78.899 |acoustic   |\n",
            "|4mzP5mHkRvGxdhdGdAH7EJ|Zack Tabudlo                        |Episode                                               |Give Me Your Forever            |74        |False   |0.627       |0.363 |-8.127  |1   |0.0291     |0.279       |0.0             |0.0928  |0.301  |99.905 |acoustic   |\n",
            "|5ivF4eQBqJiVL5IAE9jRyl|Jason Mraz                          |Love Is a Four Letter Word                            |I Won't Give Up                 |69        |False   |0.483       |0.303 |-10.058 |1   |0.0429     |0.694       |0.0             |0.115   |0.139  |133.406|acoustic   |\n",
            "|4ptDJbJl35d7gQfeNteBwp|Dan Berk                            |Solo                                                  |Solo                            |52        |False   |0.489       |0.314 |-9.245  |0   |0.0331     |0.749       |0.0             |0.113   |0.607  |124.234|acoustic   |\n",
            "|0X9MxHR1rTkEHDjp95F2OO|Anna Hamilton                       |Bad Liar                                              |Bad Liar                        |62        |False   |0.691       |0.234 |-6.441  |1   |0.0285     |0.777       |0.0             |0.12    |0.209  |87.103 |acoustic   |\n",
            "|4LbWtBkN82ZRhz9jqzgrb3|Chord Overstreet;Deepend            |Hold On (Remix)                                       |Hold On - Remix                 |56        |False   |0.755       |0.78  |-6.084  |1   |0.0327     |0.124       |2.83E-5         |0.121   |0.387  |120.004|acoustic   |\n",
            "|1KHdq8NK9QxnGjdXb55NiG|Landon Pigg                         |The Boy Who Never                                     |Falling in Love at a Coffee Shop|58        |False   |0.489       |0.561 |-7.933  |1   |0.0274     |0.2         |4.56E-5         |0.179   |0.238  |83.457 |acoustic   |\n",
            "|6xKeQgzfjixSUld14qUezm|Andrew Foy;Renee Foy                |ily (i love you baby)                                 |ily (i love you baby)           |56        |False   |0.706       |0.112 |-18.098 |1   |0.0391     |0.827       |4.03E-6         |0.125   |0.414  |110.154|acoustic   |\n",
            "|4Yo0igmcoNyat1secaH0OD|Andrew Foy;Renee Foy                |At My Worst                                           |At My Worst                     |54        |False   |0.795       |0.0841|-18.09  |0   |0.0461     |0.742       |1.17E-5         |0.0853  |0.609  |91.803 |acoustic   |\n",
            "|2qLMf6TuEC3ruGJg4SMMN6|Jason Mraz;Colbie Caillat           |We Sing. We Dance. We Steal Things.                   |Lucky                           |68        |False   |0.625       |0.414 |-8.7    |1   |0.0369     |0.294       |0.0             |0.151   |0.669  |130.088|acoustic   |\n",
            "|6CgNoAbFJ4Q4Id4EjtbXlC|Boyce Avenue;Bea Miller             |Cover Sessions, Vol. 4                                |Photograph                      |67        |False   |0.717       |0.32  |-8.393  |1   |0.0283     |0.83        |0.0             |0.107   |0.322  |107.946|acoustic   |\n",
            "+----------------------+------------------------------------+------------------------------------------------------+--------------------------------+----------+--------+------------+------+--------+----+-----------+------------+----------------+--------+-------+-------+-----------+\n",
            "only showing top 20 rows\n",
            "\n"
          ]
        }
      ]
    },
    {
      "cell_type": "markdown",
      "source": [
        "## ALS Model For Artist Recommendation Based on Popularity"
      ],
      "metadata": {
        "id": "IoTOXuPhla-P"
      }
    },
    {
      "cell_type": "markdown",
      "source": [
        "The ALS model develops a recommendation system for a user who likes a song to explore other artists that are of the same popularity. The model takes into consideration the track_id, the artist_id, and popularity column to offer the top 10 recommended artist for a user who likes a song."
      ],
      "metadata": {
        "id": "T1XaJxF96q05"
      }
    },
    {
      "cell_type": "code",
      "source": [
        "from pyspark.ml.feature import StringIndexer, IndexToString, OneHotEncoder, VectorAssembler\n",
        "from pyspark.ml import Pipeline\n",
        "from pyspark.ml.recommendation import ALS\n",
        "from pyspark.ml.evaluation import RegressionEvaluator\n",
        "\n",
        "# Convert columns to data types\n",
        "df = spotify_song_df \\\n",
        "    .withColumn('popularity', spotify_song_df['popularity'].cast('int')) \\\n",
        "    .withColumn('explicit', spotify_song_df['explicit'].cast('boolean')) \\\n",
        "    .withColumn('danceability', spotify_song_df['danceability'].cast('double')) \\\n",
        "    .withColumn('energy', spotify_song_df['energy'].cast('double')) \\\n",
        "    .withColumn('loudness', spotify_song_df['loudness'].cast('double')) \\\n",
        "    .withColumn('mode', spotify_song_df['mode'].cast('int')) \\\n",
        "    .withColumn('speechiness', spotify_song_df['speechiness'].cast('double')) \\\n",
        "    .withColumn('acousticness', spotify_song_df['acousticness'].cast('double')) \\\n",
        "    .withColumn('instrumentalness', spotify_song_df['instrumentalness'].cast('double')) \\\n",
        "    .withColumn('liveness', spotify_song_df['liveness'].cast('double')) \\\n",
        "    .withColumn('valence', spotify_song_df['valence'].cast('double')) \\\n",
        "    .withColumn('tempo', spotify_song_df['tempo'].cast('double'))\n",
        "\n",
        "# Drop rows with NaN values in any column\n",
        "spotify_song_df = spotify_song_df.dropna(how='any')\n",
        "\n",
        "# StringIndexer to convert string fields to indices which will be used by ALS\n",
        "indexers = [StringIndexer(inputCol=column, outputCol=column+\"_index\").fit(df) for column in list(set(df.columns)-set(['popularity', 'duration_ms', 'explicit','track_genre', \"_c0\"])) ]\n",
        "\n",
        "# Index the genre column\n",
        "genre_indexer = StringIndexer(inputCol='track_genre', outputCol='track_genre_index')#.fit(df)\n",
        "\n",
        "# One-hot encode the indexed genre column\n",
        "genre_encoder = OneHotEncoder(inputCol='track_genre_index', outputCol='track_genre_vec')\n",
        "\n",
        "assembler=VectorAssembler(inputCols=['track_id', 'artists', 'album_name', 'track_name', 'popularity',\\\n",
        "                                     'explicit', 'danceability', 'energy', 'loudness', 'mode', 'speechiness',\\\n",
        "                                     'acousticness', 'instrumentalness', 'liveness', 'valence', 'track_genre_vec'], outputCol='features')\n",
        "\n",
        "# Define the ALS algorithm\n",
        "als = ALS(\n",
        "    userCol=\"track_id_index\",\n",
        "    itemCol=\"artists_index\",\n",
        "    ratingCol=\"popularity\",\n",
        "    nonnegative=True,\n",
        "    implicitPrefs=False,\n",
        "    coldStartStrategy=\"drop\"\n",
        ")\n",
        "\n",
        "# Now, add these to your pipeline\n",
        "pipeline_stages = indexers + [genre_indexer, genre_encoder, als]\n",
        "pipeline = Pipeline(stages=pipeline_stages)\n",
        "\n",
        "# Split the data into training and test sets\n",
        "(training_data, test_data) = df.randomSplit([0.8, 0.2])\n",
        "\n",
        "# Fit the model\n",
        "model = pipeline.fit(training_data)\n",
        "\n",
        "# Make predictions\n",
        "predictions = model.transform(test_data)\n",
        "\n",
        "# Evaluate the model by computing the RMSE on the test data\n",
        "evaluator = RegressionEvaluator(metricName=\"rmse\", labelCol=\"popularity\", predictionCol=\"prediction\")\n",
        "\n",
        "rmse = evaluator.evaluate(predictions)\n",
        "\n",
        "print(\"Root Mean Squared Error (RMSE) on test data = %g\" % rmse)"
      ],
      "metadata": {
        "colab": {
          "base_uri": "https://localhost:8080/",
          "height": 0
        },
        "id": "a6h_LiGc3Trb",
        "outputId": "56d96ca1-3712-421c-837f-f6412589303a"
      },
      "execution_count": 56,
      "outputs": [
        {
          "output_type": "stream",
          "name": "stdout",
          "text": [
            "Root Mean Squared Error (RMSE) on test data = 2.04544\n"
          ]
        }
      ]
    },
    {
      "cell_type": "markdown",
      "source": [
        "This portion recommends a user 10 artists based on songs they like."
      ],
      "metadata": {
        "id": "t40xaISl7B3L"
      }
    },
    {
      "cell_type": "code",
      "source": [
        "# Get 10 artist to recommendation for a track\n",
        "user_recs = model.stages[-1].recommendForAllUsers(10)\n",
        "\n",
        "user_recs.show(truncate=False)"
      ],
      "metadata": {
        "colab": {
          "base_uri": "https://localhost:8080/",
          "height": 0
        },
        "id": "K7mp_-e9_voM",
        "outputId": "ed700516-a5f2-47a5-9557-74eea228981d"
      },
      "execution_count": 57,
      "outputs": [
        {
          "output_type": "stream",
          "name": "stdout",
          "text": [
            "+--------------+------------------------------------------------------------------------------------------------------------------------------------------------------------------------------------------------------+\n",
            "|track_id_index|recommendations                                                                                                                                                                                       |\n",
            "+--------------+------------------------------------------------------------------------------------------------------------------------------------------------------------------------------------------------------+\n",
            "|26            |[{29461, 136.20064}, {17011, 114.20156}, {18244, 113.6354}, {24863, 112.77322}, {12008, 106.92717}, {7920, 103.25787}, {12620, 102.65349}, {27968, 102.62045}, {29804, 98.584236}, {27586, 96.387054}]|\n",
            "|27            |[{99, 0.0}, {98, 0.0}, {97, 0.0}, {96, 0.0}, {95, 0.0}, {94, 0.0}, {93, 0.0}, {92, 0.0}, {91, 0.0}, {90, 0.0}]                                                                                        |\n",
            "|28            |[{9134, 100.34088}, {10074, 98.84116}, {27974, 97.190216}, {30972, 95.44558}, {27411, 93.40673}, {23027, 90.76702}, {11942, 90.536095}, {4821, 90.138824}, {4924, 90.06863}, {6957, 89.89728}]        |\n",
            "|31            |[{5053, 108.15918}, {3788, 104.418076}, {25341, 101.096504}, {9634, 100.35293}, {4003, 98.2284}, {5735, 96.40667}, {16519, 94.28404}, {8640, 93.67467}, {4522, 92.81346}, {12783, 91.88208}]          |\n",
            "|34            |[{5053, 117.77333}, {3788, 113.69968}, {25341, 110.08286}, {9634, 109.273186}, {4003, 106.959816}, {5735, 104.97615}, {16519, 102.66485}, {8640, 102.001305}, {4522, 101.06355}, {12783, 100.049385}] |\n",
            "|44            |[{99, 0.0}, {98, 0.0}, {97, 0.0}, {96, 0.0}, {95, 0.0}, {94, 0.0}, {93, 0.0}, {92, 0.0}, {91, 0.0}, {90, 0.0}]                                                                                        |\n",
            "|53            |[{99, 0.0}, {98, 0.0}, {97, 0.0}, {96, 0.0}, {95, 0.0}, {94, 0.0}, {93, 0.0}, {92, 0.0}, {91, 0.0}, {90, 0.0}]                                                                                        |\n",
            "|65            |[{23088, 14.280181}, {5052, 13.922445}, {30797, 13.549765}, {23716, 13.401429}, {29804, 13.358647}, {29461, 13.31932}, {24866, 13.158163}, {6239, 13.04714}, {30041, 12.715096}, {8718, 12.708712}]   |\n",
            "|76            |[{13329, 78.078186}, {27316, 77.44498}, {10676, 75.35704}, {3865, 72.996315}, {6580, 71.56297}, {5771, 71.50951}, {7428, 67.86577}, {30244, 67.57232}, {19401, 66.381165}, {27323, 66.06043}]         |\n",
            "|78            |[{16410, 74.35415}, {24864, 66.8762}, {8580, 66.67165}, {7307, 64.094955}, {17388, 62.098248}, {30970, 61.52441}, {2580, 61.29192}, {15143, 60.66986}, {6636, 60.56966}, {17040, 60.03292}]           |\n",
            "|81            |[{29461, 164.05984}, {17011, 137.56097}, {18244, 136.879}, {24863, 135.84045}, {12008, 128.79865}, {7920, 124.3788}, {12620, 123.650795}, {27968, 123.611}, {29804, 118.7492}, {27586, 116.102585}]   |\n",
            "|85            |[{99, 0.0}, {98, 0.0}, {97, 0.0}, {96, 0.0}, {95, 0.0}, {94, 0.0}, {93, 0.0}, {92, 0.0}, {91, 0.0}, {90, 0.0}]                                                                                        |\n",
            "|101           |[{6234, 94.50512}, {16366, 87.20385}, {16001, 84.42688}, {19243, 83.72504}, {16280, 83.58065}, {1561, 83.436935}, {18440, 83.111084}, {4616, 81.877495}, {26803, 80.386635}, {3134, 80.177925}]       |\n",
            "|103           |[{99, 0.0}, {98, 0.0}, {97, 0.0}, {96, 0.0}, {95, 0.0}, {94, 0.0}, {93, 0.0}, {92, 0.0}, {91, 0.0}, {90, 0.0}]                                                                                        |\n",
            "|108           |[{99, 0.0}, {98, 0.0}, {97, 0.0}, {96, 0.0}, {95, 0.0}, {94, 0.0}, {93, 0.0}, {92, 0.0}, {91, 0.0}, {90, 0.0}]                                                                                        |\n",
            "|115           |[{99, 0.0}, {98, 0.0}, {97, 0.0}, {96, 0.0}, {95, 0.0}, {94, 0.0}, {93, 0.0}, {92, 0.0}, {91, 0.0}, {90, 0.0}]                                                                                        |\n",
            "|126           |[{99, 0.0}, {98, 0.0}, {97, 0.0}, {96, 0.0}, {95, 0.0}, {94, 0.0}, {93, 0.0}, {92, 0.0}, {91, 0.0}, {90, 0.0}]                                                                                        |\n",
            "|133           |[{99, 0.0}, {98, 0.0}, {97, 0.0}, {96, 0.0}, {95, 0.0}, {94, 0.0}, {93, 0.0}, {92, 0.0}, {91, 0.0}, {90, 0.0}]                                                                                        |\n",
            "|137           |[{29461, 164.05984}, {17011, 137.56097}, {18244, 136.879}, {24863, 135.84045}, {12008, 128.79865}, {7920, 124.3788}, {12620, 123.650795}, {27968, 123.611}, {29804, 118.7492}, {27586, 116.102585}]   |\n",
            "|148           |[{99, 0.0}, {98, 0.0}, {97, 0.0}, {96, 0.0}, {95, 0.0}, {94, 0.0}, {93, 0.0}, {92, 0.0}, {91, 0.0}, {90, 0.0}]                                                                                        |\n",
            "+--------------+------------------------------------------------------------------------------------------------------------------------------------------------------------------------------------------------------+\n",
            "only showing top 20 rows\n",
            "\n"
          ]
        }
      ]
    },
    {
      "cell_type": "markdown",
      "source": [
        "# Song Recomender"
      ],
      "metadata": {
        "id": "3DvD-Qfg7ngC"
      }
    },
    {
      "cell_type": "markdown",
      "source": [
        "The song recommender recommends songs to a user based on a song that they like. The model is built using cosine similarity which takes into account variables on aspects of the song to recommend similar ones. The model takes a song name and recommends 10 other songs that the user might like."
      ],
      "metadata": {
        "id": "rkUiIJV17LsA"
      }
    },
    {
      "cell_type": "code",
      "source": [
        "from pyspark.ml.feature import VectorAssembler, StringIndexer, OneHotEncoder, Normalizer\n",
        "from pyspark.ml import Pipeline\n",
        "\n",
        "# Drop NaNs\n",
        "spotify_song_df = spotify_song_df.dropna(how='any')\n",
        "\n",
        "# Convert columns to data types\n",
        "spotify_song_df = spotify_song_df \\\n",
        "    .withColumn('popularity', spotify_song_df['popularity'].cast('int')) \\\n",
        "    .withColumn('explicit', spotify_song_df['explicit'].cast('boolean')) \\\n",
        "    .withColumn('danceability', spotify_song_df['danceability'].cast('double')) \\\n",
        "    .withColumn('energy', spotify_song_df['energy'].cast('double')) \\\n",
        "    .withColumn('loudness', spotify_song_df['loudness'].cast('double')) \\\n",
        "    .withColumn('mode', spotify_song_df['mode'].cast('int')) \\\n",
        "    .withColumn('speechiness', spotify_song_df['speechiness'].cast('double')) \\\n",
        "    .withColumn('acousticness', spotify_song_df['acousticness'].cast('double')) \\\n",
        "    .withColumn('instrumentalness', spotify_song_df['instrumentalness'].cast('double')) \\\n",
        "    .withColumn('liveness', spotify_song_df['liveness'].cast('double')) \\\n",
        "    .withColumn('valence', spotify_song_df['valence'].cast('double')) \\\n",
        "    .withColumn('tempo', spotify_song_df['tempo'].cast('double'))\n",
        "\n",
        "# Example of handling categorical variables\n",
        "features = ['popularity', 'danceability', 'energy', 'loudness', 'mode', 'speechiness',\n",
        "            'acousticness', 'instrumentalness', 'liveness', 'valence', 'tempo']\n",
        "\n",
        "assembler_audio = VectorAssembler(inputCols=features, outputCol=\"audio_vec\")\n",
        "\n",
        "normalizer = Normalizer(inputCol=\"audio_vec\", outputCol=\"normFeatures\")\n",
        "\n",
        "stringIndexer = StringIndexer(inputCol=\"track_genre\", outputCol=\"genreIndexed\")\n",
        "encoder = OneHotEncoder(inputCols=[\"genreIndexed\"], outputCols=[\"genreVec\"])\n",
        "\n",
        "# Assuming other features are numerical and already in the desired format\n",
        "assembler = VectorAssembler(inputCols=[\"normFeatures\", \"genreVec\"], outputCol=\"features\")\n",
        "\n",
        "pipeline = Pipeline(stages=[assembler_audio, normalizer, stringIndexer, encoder, assembler])\n",
        "pipelineModel = pipeline.fit(spotify_song_df)\n",
        "df_transformed = pipelineModel.transform(spotify_song_df)"
      ],
      "metadata": {
        "id": "ukHUD5KAE0F5"
      },
      "execution_count": 22,
      "outputs": []
    },
    {
      "cell_type": "code",
      "source": [
        "df_transformed.show(truncate=False)"
      ],
      "metadata": {
        "colab": {
          "base_uri": "https://localhost:8080/",
          "height": 0
        },
        "id": "zQOG7azpl4Oq",
        "outputId": "9a44cbaf-7885-41e3-98fd-f7ca3e045ba3"
      },
      "execution_count": 23,
      "outputs": [
        {
          "output_type": "stream",
          "name": "stdout",
          "text": [
            "+----------------------+------------------------------------+------------------------------------------------------+--------------------------------+----------+--------+------------+------+--------+----+-----------+------------+----------------+--------+-------+-------+-----------+------------------------------------------------------------------------+--------------------------------------------------------------------------------------------------------------------------------------------------------------------------------------------------------------------------------------+------------+----------------+-----------------------------------------------------------------------------------------------------------------------------------------------------------------------------------------------------------------------------------------------------------------------------+\n",
            "|track_id              |artists                             |album_name                                            |track_name                      |popularity|explicit|danceability|energy|loudness|mode|speechiness|acousticness|instrumentalness|liveness|valence|tempo  |track_genre|audio_vec                                                               |normFeatures                                                                                                                                                                                                                          |genreIndexed|genreVec        |features                                                                                                                                                                                                                                                                     |\n",
            "+----------------------+------------------------------------+------------------------------------------------------+--------------------------------+----------+--------+------------+------+--------+----+-----------+------------+----------------+--------+-------+-------+-----------+------------------------------------------------------------------------+--------------------------------------------------------------------------------------------------------------------------------------------------------------------------------------------------------------------------------------+------------+----------------+-----------------------------------------------------------------------------------------------------------------------------------------------------------------------------------------------------------------------------------------------------------------------------+\n",
            "|5SuOikwiRyPMVoIQDJUgSV|Gen Hoshino                         |Comedy                                                |Comedy                          |73        |false   |0.676       |0.461 |-6.746  |0   |0.143      |0.0322      |1.01E-6         |0.358   |0.715  |87.917 |acoustic   |[73.0,0.676,0.461,-6.746,0.0,0.143,0.0322,1.01E-6,0.358,0.715,87.917]   |[0.6376764929131795,0.005905059030264512,0.004026970729218846,-0.058928296180716565,0.0,0.0012491471025559543,2.8127648043567644E-4,8.822647367702896E-9,0.00312723540360162,0.006245735512779771,0.7679808798280549]                 |97.0        |(113,[97],[1.0])|(124,[0,1,2,3,5,6,7,8,9,10,108],[0.6376764929131795,0.005905059030264512,0.004026970729218846,-0.058928296180716565,0.0012491471025559543,2.8127648043567644E-4,8.822647367702896E-9,0.00312723540360162,0.006245735512779771,0.7679808798280549,1.0])                       |\n",
            "|4qPNDBW1i3p13qLCt0Ki3A|Ben Woodward                        |Ghost (Acoustic)                                      |Ghost - Acoustic                |55        |false   |0.42        |0.166 |-17.235 |1   |0.0763     |0.924       |5.56E-6         |0.101   |0.267  |77.489 |acoustic   |[55.0,0.42,0.166,-17.235,1.0,0.0763,0.924,5.56E-6,0.101,0.267,77.489]   |[0.5694443683676729,0.004348484267534956,0.00171868663907334,-0.17844315797848803,0.010353533970321325,7.899746419355171E-4,0.009566665388576904,5.7565648874986564E-8,0.001045706931002454,0.002764393570075794,0.8022849938262292]  |97.0        |(113,[97],[1.0])|(124,[0,1,2,3,4,5,6,7,8,9,10,108],[0.5694443683676729,0.004348484267534956,0.00171868663907334,-0.17844315797848803,0.010353533970321325,7.899746419355171E-4,0.009566665388576904,5.7565648874986564E-8,0.001045706931002454,0.002764393570075794,0.8022849938262292,1.0])  |\n",
            "|1iJBSr7s7jYXzM8EGcbK5b|Ingrid Michaelson;ZAYN              |To Begin Again                                        |To Begin Again                  |57        |false   |0.438       |0.359 |-9.734  |1   |0.0557     |0.21        |0.0             |0.117   |0.12   |76.332 |acoustic   |[57.0,0.438,0.359,-9.734,1.0,0.0557,0.21,0.0,0.117,0.12,76.332]         |[0.5951815199603877,0.004573500100748242,0.0037485993976452484,-0.10164029675955111,0.010441781051936626,5.8160720459287E-4,0.002192774020906691,0.0,0.0012216883830765853,0.001253013726232395,0.7970420312564265]                   |97.0        |(113,[97],[1.0])|(124,[0,1,2,3,4,5,6,8,9,10,108],[0.5951815199603877,0.004573500100748242,0.0037485993976452484,-0.10164029675955111,0.010441781051936626,5.8160720459287E-4,0.002192774020906691,0.0012216883830765853,0.001253013726232395,0.7970420312564265,1.0])                         |\n",
            "|6lfxq3CG4xtTiEg7opyCyx|Kina Grannis                        |Crazy Rich Asians (Original Motion Picture Soundtrack)|Can't Help Falling In Love      |71        |false   |0.266       |0.0596|-18.515 |1   |0.0363     |0.905       |7.07E-5         |0.132   |0.143  |181.74 |acoustic   |[71.0,0.266,0.0596,-18.515,1.0,0.0363,0.905,7.07E-5,0.132,0.143,181.74] |[0.3622488332081125,0.00135715760046983,3.0408493604511976E-4,-0.09446531192743948,0.005102096242367782,1.8520609359795048E-4,0.004617397099342843,3.6071820433540214E-7,6.734767039925472E-4,7.295997626585927E-4,0.9272549710879207]|97.0        |(113,[97],[1.0])|(124,[0,1,2,3,4,5,6,7,8,9,10,108],[0.3622488332081125,0.00135715760046983,3.0408493604511976E-4,-0.09446531192743948,0.005102096242367782,1.8520609359795048E-4,0.004617397099342843,3.6071820433540214E-7,6.734767039925472E-4,7.295997626585927E-4,0.9272549710879207,1.0])|\n",
            "|5vjLSffimiIP26QG5WcN2K|Chord Overstreet                    |Hold On                                               |Hold On                         |82        |false   |0.618       |0.443 |-9.681  |1   |0.0526     |0.469       |0.0             |0.0829  |0.167  |119.949|acoustic   |[82.0,0.618,0.443,-9.681,1.0,0.0526,0.469,0.0,0.0829,0.167,119.949]     |[0.5630811090859847,0.00424370884652608,0.003042011357623064,-0.06647790508611484,0.00686684279373152,3.61195930950278E-4,0.003220549270260083,0.0,5.692612676003431E-4,0.001146762746553164,0.8236709262653021]                      |97.0        |(113,[97],[1.0])|(124,[0,1,2,3,4,5,6,8,9,10,108],[0.5630811090859847,0.00424370884652608,0.003042011357623064,-0.06647790508611484,0.00686684279373152,3.61195930950278E-4,0.003220549270260083,5.692612676003431E-4,0.001146762746553164,0.8236709262653021,1.0])                            |\n",
            "|01MVOl9KtVTNfFiBU9I7dc|Tyrone Wells                        |Days I Will Remember                                  |Days I Will Remember            |58        |false   |0.688       |0.481 |-8.807  |1   |0.105      |0.289       |0.0             |0.189   |0.666  |98.017 |acoustic   |[58.0,0.688,0.481,-8.807,1.0,0.105,0.289,0.0,0.189,0.666,98.017]        |[0.5076953697217327,0.0060223174891129655,0.004210370221312989,-0.07709091588171206,0.00875336844347815,9.191036865652056E-4,0.0025297234801651847,0.0,0.0016543866358173702,0.005829743383356447,0.8579789147243977]                 |97.0        |(113,[97],[1.0])|(124,[0,1,2,3,4,5,6,8,9,10,108],[0.5076953697217327,0.0060223174891129655,0.004210370221312989,-0.07709091588171206,0.00875336844347815,9.191036865652056E-4,0.0025297234801651847,0.0016543866358173702,0.005829743383356447,0.8579789147243977,1.0])                       |\n",
            "|6Vc5wAMmXdKIAM7WUoEb7N|A Great Big World;Christina Aguilera|Is There Anybody Out There?                           |Say Something                   |74        |false   |0.407       |0.147 |-8.822  |1   |0.0355     |0.857       |2.89E-6         |0.0913  |0.0765 |141.284|acoustic   |[74.0,0.407,0.147,-8.822,1.0,0.0355,0.857,2.89E-6,0.0913,0.0765,141.284]|[0.46325218762213555,0.002547887031921745,9.202442105466747E-4,-0.05522717296219567,0.006260164697596426,2.2223584676467313E-4,0.005364961145840137,1.809187597605367E-8,5.715530368905538E-4,4.789025993661266E-4,0.8844611091352135]|97.0        |(113,[97],[1.0])|(124,[0,1,2,3,4,5,6,7,8,9,10,108],[0.46325218762213555,0.002547887031921745,9.202442105466747E-4,-0.05522717296219567,0.006260164697596426,2.2223584676467313E-4,0.005364961145840137,1.809187597605367E-8,5.715530368905538E-4,4.789025993661266E-4,0.8844611091352135,1.0])|\n",
            "|1EzrEOXmMH3G43AXT1y7pA|Jason Mraz                          |We Sing. We Dance. We Steal Things.                   |I'm Yours                       |80        |false   |0.703       |0.444 |-9.331  |1   |0.0417     |0.559       |0.0             |0.0973  |0.712  |150.96 |acoustic   |[80.0,0.703,0.444,-9.331,1.0,0.0417,0.559,0.0,0.0973,0.712,150.96]      |[0.46753646927699516,0.0041084767237715945,0.0025948274044873235,-0.05453228493529552,0.00584420586596244,2.4370338461063374E-4,0.003266911079073004,0.0,5.686412307581454E-4,0.004161074576565257,0.88224131752569]                  |97.0        |(113,[97],[1.0])|(124,[0,1,2,3,4,5,6,8,9,10,108],[0.46753646927699516,0.0041084767237715945,0.0025948274044873235,-0.05453228493529552,0.00584420586596244,2.4370338461063374E-4,0.003266911079073004,5.686412307581454E-4,0.004161074576565257,0.88224131752569,1.0])                        |\n",
            "|0IktbUcnAGrvD03AWnz3Q8|Jason Mraz;Colbie Caillat           |We Sing. We Dance. We Steal Things.                   |Lucky                           |74        |false   |0.625       |0.414 |-8.7    |1   |0.0369     |0.294       |0.0             |0.151   |0.669  |130.088|acoustic   |[74.0,0.625,0.414,-8.7,1.0,0.0369,0.294,0.0,0.151,0.669,130.088]        |[0.49358899171897364,0.004168825943572412,0.002761430305022366,-0.058030057134527975,0.00667012150971586,2.4612748370851526E-4,0.0019610157238564626,0.0,0.0010071883479670948,0.00446231128999991,0.8677027669559167]                |97.0        |(113,[97],[1.0])|(124,[0,1,2,3,4,5,6,8,9,10,108],[0.49358899171897364,0.004168825943572412,0.002761430305022366,-0.058030057134527975,0.00667012150971586,2.4612748370851526E-4,0.0019610157238564626,0.0010071883479670948,0.00446231128999991,0.8677027669559167,1.0])                      |\n",
            "|7k9GuJYLp2AzqokyEdwEw2|Ross Copperman                      |Hunger                                                |Hunger                          |56        |false   |0.442       |0.632 |-6.77   |1   |0.0295     |0.426       |0.00419         |0.0735  |0.196  |78.899 |acoustic   |[56.0,0.442,0.632,-6.77,1.0,0.0295,0.426,0.00419,0.0735,0.196,78.899]   |[0.5773286053200412,0.004556772206276039,0.006515565688611893,-0.06979490460744069,0.01030943938071502,3.041284617310931E-4,0.004391821176184599,4.319655100519594E-5,7.57743794482554E-4,0.0020206501186201442,0.8134044576990345]   |97.0        |(113,[97],[1.0])|(124,[0,1,2,3,4,5,6,7,8,9,10,108],[0.5773286053200412,0.004556772206276039,0.006515565688611893,-0.06979490460744069,0.01030943938071502,3.041284617310931E-4,0.004391821176184599,4.319655100519594E-5,7.57743794482554E-4,0.0020206501186201442,0.8134044576990345,1.0])   |\n",
            "|4mzP5mHkRvGxdhdGdAH7EJ|Zack Tabudlo                        |Episode                                               |Give Me Your Forever            |74        |false   |0.627       |0.363 |-8.127  |1   |0.0291     |0.279       |0.0             |0.0928  |0.301  |99.905 |acoustic   |[74.0,0.627,0.363,-8.127,1.0,0.0291,0.279,0.0,0.0928,0.301,99.905]      |[0.5939081334074972,0.005032167562790551,0.0029133601679313713,-0.06522555946219906,0.0080257855865878,2.33550360569705E-4,0.0022391941786579963,0.0,7.447929024353478E-4,0.002415761461562928,0.8018161090280541]                    |97.0        |(113,[97],[1.0])|(124,[0,1,2,3,4,5,6,8,9,10,108],[0.5939081334074972,0.005032167562790551,0.0029133601679313713,-0.06522555946219906,0.0080257855865878,2.33550360569705E-4,0.0022391941786579963,7.447929024353478E-4,0.002415761461562928,0.8018161090280541,1.0])                          |\n",
            "|5ivF4eQBqJiVL5IAE9jRyl|Jason Mraz                          |Love Is a Four Letter Word                            |I Won't Give Up                 |69        |false   |0.483       |0.303 |-10.058 |1   |0.0429     |0.694       |0.0             |0.115   |0.139  |133.406|acoustic   |[69.0,0.483,0.303,-10.058,1.0,0.0429,0.694,0.0,0.115,0.139,133.406]     |[0.45836133026867854,0.00320852931188075,0.002012804102484197,-0.06681446753394737,0.006642917829980849,2.849811749061784E-4,0.004610184974006708,0.0,7.639355504477976E-4,9.233655783673381E-4,0.8862050960264252]                   |97.0        |(113,[97],[1.0])|(124,[0,1,2,3,4,5,6,8,9,10,108],[0.45836133026867854,0.00320852931188075,0.002012804102484197,-0.06681446753394737,0.006642917829980849,2.849811749061784E-4,0.004610184974006708,7.639355504477976E-4,9.233655783673381E-4,0.8862050960264252,1.0])                         |\n",
            "|4ptDJbJl35d7gQfeNteBwp|Dan Berk                            |Solo                                                  |Solo                            |52        |false   |0.489       |0.314 |-9.245  |0   |0.0331     |0.749       |0.0             |0.113   |0.607  |124.234|acoustic   |[52.0,0.489,0.314,-9.245,0.0,0.0331,0.749,0.0,0.113,0.607,124.234]      |[0.38518689911102383,0.0036222383397171275,0.002325936275401182,-0.06848178619771951,0.0,2.451862761649017E-4,0.005548172835272247,0.0,8.370407615297249E-4,0.004496316303084451,0.920255946618441]                                   |97.0        |(113,[97],[1.0])|(124,[0,1,2,3,5,6,8,9,10,108],[0.38518689911102383,0.0036222383397171275,0.002325936275401182,-0.06848178619771951,2.451862761649017E-4,0.005548172835272247,8.370407615297249E-4,0.004496316303084451,0.920255946618441,1.0])                                               |\n",
            "|0X9MxHR1rTkEHDjp95F2OO|Anna Hamilton                       |Bad Liar                                              |Bad Liar                        |62        |false   |0.691       |0.234 |-6.441  |1   |0.0285     |0.777       |0.0             |0.12    |0.209  |87.103 |acoustic   |[62.0,0.691,0.234,-6.441,1.0,0.0285,0.777,0.0,0.12,0.209,87.103]        |[0.5787921708985061,0.006450732098239801,0.0021844736772621037,-0.06012903827027867,0.009335357595137194,2.6605769146141004E-4,0.0072535728514216006,0.0,0.0011202429114164634,0.0019510897373836735,0.813137652609235]               |97.0        |(113,[97],[1.0])|(124,[0,1,2,3,4,5,6,8,9,10,108],[0.5787921708985061,0.006450732098239801,0.0021844736772621037,-0.06012903827027867,0.009335357595137194,2.6605769146141004E-4,0.0072535728514216006,0.0011202429114164634,0.0019510897373836735,0.813137652609235,1.0])                     |\n",
            "|4LbWtBkN82ZRhz9jqzgrb3|Chord Overstreet;Deepend            |Hold On (Remix)                                       |Hold On - Remix                 |56        |false   |0.755       |0.78  |-6.084  |1   |0.0327     |0.124       |2.83E-5         |0.121   |0.387  |120.004|acoustic   |[56.0,0.755,0.78,-6.084,1.0,0.0327,0.124,2.83E-5,0.121,0.387,120.004]   |[0.4223999656878039,0.005694856680255214,0.005883428093508698,-0.045890739129367836,0.007542856530139356,2.4665140853555697E-4,9.353142097372801E-4,2.1346283980294378E-7,9.12685640146862E-4,0.002919085477163931,0.9051729550428433]|97.0        |(113,[97],[1.0])|(124,[0,1,2,3,4,5,6,7,8,9,10,108],[0.4223999656878039,0.005694856680255214,0.005883428093508698,-0.045890739129367836,0.007542856530139356,2.4665140853555697E-4,9.353142097372801E-4,2.1346283980294378E-7,9.12685640146862E-4,0.002919085477163931,0.9051729550428433,1.0])|\n",
            "|1KHdq8NK9QxnGjdXb55NiG|Landon Pigg                         |The Boy Who Never                                     |Falling in Love at a Coffee Shop|58        |false   |0.489       |0.561 |-7.933  |1   |0.0274     |0.2         |4.56E-5         |0.179   |0.238  |83.457 |acoustic   |[58.0,0.489,0.561,-7.933,1.0,0.0274,0.2,4.56E-5,0.179,0.238,83.457]     |[0.5689094981277257,0.004796495596283756,0.0055027280767181745,-0.0778130870456422,0.009808784450478029,2.68760693943098E-4,0.001961756890095606,4.472805709417981E-7,0.001755772416635567,0.002334490699213771,0.8186117238835449]   |97.0        |(113,[97],[1.0])|(124,[0,1,2,3,4,5,6,7,8,9,10,108],[0.5689094981277257,0.004796495596283756,0.0055027280767181745,-0.0778130870456422,0.009808784450478029,2.68760693943098E-4,0.001961756890095606,4.472805709417981E-7,0.001755772416635567,0.002334490699213771,0.8186117238835449,1.0])   |\n",
            "|6xKeQgzfjixSUld14qUezm|Andrew Foy;Renee Foy                |ily (i love you baby)                                 |ily (i love you baby)           |56        |false   |0.706       |0.112 |-18.098 |1   |0.0391     |0.827       |4.03E-6         |0.125   |0.414  |110.154|acoustic   |[56.0,0.706,0.112,-18.098,1.0,0.0391,0.827,4.03E-6,0.125,0.414,110.154] |[0.44836134868724614,0.0056525555745213524,8.967226973744923E-4,-0.1449007801525318,0.008006452655129396,3.130522988155594E-4,0.00662133634579201,3.226600420017147E-8,0.0010008065818911745,0.0033146713992235695,0.8819427857731233]|97.0        |(113,[97],[1.0])|(124,[0,1,2,3,4,5,6,7,8,9,10,108],[0.44836134868724614,0.0056525555745213524,8.967226973744923E-4,-0.1449007801525318,0.008006452655129396,3.130522988155594E-4,0.00662133634579201,3.226600420017147E-8,0.0010008065818911745,0.0033146713992235695,0.8819427857731233,1.0])|\n",
            "|4Yo0igmcoNyat1secaH0OD|Andrew Foy;Renee Foy                |At My Worst                                           |At My Worst                     |54        |false   |0.795       |0.0841|-18.09  |0   |0.0461     |0.742       |1.17E-5         |0.0853  |0.609  |91.803 |acoustic   |[54.0,0.795,0.0841,-18.09,0.0,0.0461,0.742,1.17E-5,0.0853,0.609,91.803] |[0.49981558447821167,0.0073583961048181165,7.784164936040296E-4,-0.1674382208002009,0.0,4.2669441563788075E-4,0.006867836364496909,1.0829337663694587E-7,7.895235065924344E-4,0.005636809091615388,0.8497142611454308]                |97.0        |(113,[97],[1.0])|(124,[0,1,2,3,5,6,7,8,9,10,108],[0.49981558447821167,0.0073583961048181165,7.784164936040296E-4,-0.1674382208002009,4.2669441563788075E-4,0.006867836364496909,1.0829337663694587E-7,7.895235065924344E-4,0.005636809091615388,0.8497142611454308,1.0])                      |\n",
            "|2qLMf6TuEC3ruGJg4SMMN6|Jason Mraz;Colbie Caillat           |We Sing. We Dance. We Steal Things.                   |Lucky                           |68        |false   |0.625       |0.414 |-8.7    |1   |0.0369     |0.294       |0.0             |0.151   |0.669  |130.088|acoustic   |[68.0,0.625,0.414,-8.7,1.0,0.0369,0.294,0.0,0.151,0.669,130.088]        |[0.462417102342522,0.00425015719064818,0.0028153041230853542,-0.05916218809382266,0.006800251505037088,2.5092928053586857E-4,0.001999273942480904,0.0,0.0010268379772606002,0.004549368256869812,0.8846311177872647]                  |97.0        |(113,[97],[1.0])|(124,[0,1,2,3,4,5,6,8,9,10,108],[0.462417102342522,0.00425015719064818,0.0028153041230853542,-0.05916218809382266,0.006800251505037088,2.5092928053586857E-4,0.001999273942480904,0.0010268379772606002,0.004549368256869812,0.8846311177872647,1.0])                        |\n",
            "|6CgNoAbFJ4Q4Id4EjtbXlC|Boyce Avenue;Bea Miller             |Cover Sessions, Vol. 4                                |Photograph                      |67        |false   |0.717       |0.32  |-8.393  |1   |0.0283     |0.83        |0.0             |0.107   |0.322  |107.946|acoustic   |[67.0,0.717,0.32,-8.393,1.0,0.0283,0.83,0.0,0.107,0.322,107.946]        |[0.5261711159039357,0.0056308162701958495,0.002513056075959096,-0.06591274889226467,0.007853300237372175,2.2224839671763254E-4,0.006518239197018905,0.0,8.403031253988227E-4,0.0025287626764338403,0.8477323474233768]                |97.0        |(113,[97],[1.0])|(124,[0,1,2,3,4,5,6,8,9,10,108],[0.5261711159039357,0.0056308162701958495,0.002513056075959096,-0.06591274889226467,0.007853300237372175,2.2224839671763254E-4,0.006518239197018905,8.403031253988227E-4,0.0025287626764338403,0.8477323474233768,1.0])                      |\n",
            "+----------------------+------------------------------------+------------------------------------------------------+--------------------------------+----------+--------+------------+------+--------+----+-----------+------------+----------------+--------+-------+-------+-----------+------------------------------------------------------------------------+--------------------------------------------------------------------------------------------------------------------------------------------------------------------------------------------------------------------------------------+------------+----------------+-----------------------------------------------------------------------------------------------------------------------------------------------------------------------------------------------------------------------------------------------------------------------------+\n",
            "only showing top 20 rows\n",
            "\n"
          ]
        }
      ]
    },
    {
      "cell_type": "markdown",
      "source": [
        "Data cleaning process to convert a sparse vector to an array and then to a list. Needed to obtain a cosine similarity score as we will need to take the dot product of the vectors."
      ],
      "metadata": {
        "id": "WT1LG2XL7qOa"
      }
    },
    {
      "cell_type": "code",
      "source": [
        "from pyspark.sql.types import ArrayType, DoubleType\n",
        "from pyspark.sql.functions import udf\n",
        "\n",
        "# UDF to convert a sparse vector to a dense vector\n",
        "def sparse_to_dense(sparse_vector):\n",
        "    return sparse_vector.toArray().tolist()\n",
        "\n",
        "# Register the UDF with the appropriate return type\n",
        "sparse_to_array_udf = udf(sparse_to_dense, ArrayType(DoubleType()))\n",
        "\n",
        "# Apply the UDF to the normalized feature column\n",
        "df_transformed = df_transformed.withColumn(\"features\", sparse_to_array_udf(\"features\"))"
      ],
      "metadata": {
        "id": "68_I9RZwcQZV"
      },
      "execution_count": 24,
      "outputs": []
    },
    {
      "cell_type": "code",
      "source": [
        "df_transformed.show(truncate=False)"
      ],
      "metadata": {
        "colab": {
          "base_uri": "https://localhost:8080/",
          "height": 0
        },
        "id": "gM8QAcjBmejv",
        "outputId": "e44e58d2-8715-4ac3-ab4e-d98e02d64c8a"
      },
      "execution_count": 25,
      "outputs": [
        {
          "output_type": "stream",
          "name": "stdout",
          "text": [
            "+----------------------+------------------------------------+------------------------------------------------------+--------------------------------+----------+--------+------------+------+--------+----+-----------+------------+----------------+--------+-------+-------+-----------+------------------------------------------------------------------------+--------------------------------------------------------------------------------------------------------------------------------------------------------------------------------------------------------------------------------------+------------+----------------+-------------------------------------------------------------------------------------------------------------------------------------------------------------------------------------------------------------------------------------------------------------------------------------------------------------------------------------------------------------------------------------------------------------------------------------------------------------------------------------------------------------------------------------------------------------------------------------------------------------------------------------------------------------------------------------------------------------------------------------------------------------------------------------------------------------------------------------+\n",
            "|track_id              |artists                             |album_name                                            |track_name                      |popularity|explicit|danceability|energy|loudness|mode|speechiness|acousticness|instrumentalness|liveness|valence|tempo  |track_genre|audio_vec                                                               |normFeatures                                                                                                                                                                                                                          |genreIndexed|genreVec        |features                                                                                                                                                                                                                                                                                                                                                                                                                                                                                                                                                                                                                                                                                                                                                                                                                             |\n",
            "+----------------------+------------------------------------+------------------------------------------------------+--------------------------------+----------+--------+------------+------+--------+----+-----------+------------+----------------+--------+-------+-------+-----------+------------------------------------------------------------------------+--------------------------------------------------------------------------------------------------------------------------------------------------------------------------------------------------------------------------------------+------------+----------------+-------------------------------------------------------------------------------------------------------------------------------------------------------------------------------------------------------------------------------------------------------------------------------------------------------------------------------------------------------------------------------------------------------------------------------------------------------------------------------------------------------------------------------------------------------------------------------------------------------------------------------------------------------------------------------------------------------------------------------------------------------------------------------------------------------------------------------------+\n",
            "|5SuOikwiRyPMVoIQDJUgSV|Gen Hoshino                         |Comedy                                                |Comedy                          |73        |false   |0.676       |0.461 |-6.746  |0   |0.143      |0.0322      |1.01E-6         |0.358   |0.715  |87.917 |acoustic   |[73.0,0.676,0.461,-6.746,0.0,0.143,0.0322,1.01E-6,0.358,0.715,87.917]   |[0.6376764929131795,0.005905059030264512,0.004026970729218846,-0.058928296180716565,0.0,0.0012491471025559543,2.8127648043567644E-4,8.822647367702896E-9,0.00312723540360162,0.006245735512779771,0.7679808798280549]                 |97.0        |(113,[97],[1.0])|[0.6376764929131795, 0.005905059030264512, 0.004026970729218846, -0.058928296180716565, 0.0, 0.0012491471025559543, 2.8127648043567644E-4, 8.822647367702896E-9, 0.00312723540360162, 0.006245735512779771, 0.7679808798280549, 0.0, 0.0, 0.0, 0.0, 0.0, 0.0, 0.0, 0.0, 0.0, 0.0, 0.0, 0.0, 0.0, 0.0, 0.0, 0.0, 0.0, 0.0, 0.0, 0.0, 0.0, 0.0, 0.0, 0.0, 0.0, 0.0, 0.0, 0.0, 0.0, 0.0, 0.0, 0.0, 0.0, 0.0, 0.0, 0.0, 0.0, 0.0, 0.0, 0.0, 0.0, 0.0, 0.0, 0.0, 0.0, 0.0, 0.0, 0.0, 0.0, 0.0, 0.0, 0.0, 0.0, 0.0, 0.0, 0.0, 0.0, 0.0, 0.0, 0.0, 0.0, 0.0, 0.0, 0.0, 0.0, 0.0, 0.0, 0.0, 0.0, 0.0, 0.0, 0.0, 0.0, 0.0, 0.0, 0.0, 0.0, 0.0, 0.0, 0.0, 0.0, 0.0, 0.0, 0.0, 0.0, 0.0, 0.0, 0.0, 0.0, 0.0, 0.0, 0.0, 0.0, 0.0, 0.0, 0.0, 0.0, 1.0, 0.0, 0.0, 0.0, 0.0, 0.0, 0.0, 0.0, 0.0, 0.0, 0.0, 0.0, 0.0, 0.0, 0.0, 0.0]                 |\n",
            "|4qPNDBW1i3p13qLCt0Ki3A|Ben Woodward                        |Ghost (Acoustic)                                      |Ghost - Acoustic                |55        |false   |0.42        |0.166 |-17.235 |1   |0.0763     |0.924       |5.56E-6         |0.101   |0.267  |77.489 |acoustic   |[55.0,0.42,0.166,-17.235,1.0,0.0763,0.924,5.56E-6,0.101,0.267,77.489]   |[0.5694443683676729,0.004348484267534956,0.00171868663907334,-0.17844315797848803,0.010353533970321325,7.899746419355171E-4,0.009566665388576904,5.7565648874986564E-8,0.001045706931002454,0.002764393570075794,0.8022849938262292]  |97.0        |(113,[97],[1.0])|[0.5694443683676729, 0.004348484267534956, 0.00171868663907334, -0.17844315797848803, 0.010353533970321325, 7.899746419355171E-4, 0.009566665388576904, 5.7565648874986564E-8, 0.001045706931002454, 0.002764393570075794, 0.8022849938262292, 0.0, 0.0, 0.0, 0.0, 0.0, 0.0, 0.0, 0.0, 0.0, 0.0, 0.0, 0.0, 0.0, 0.0, 0.0, 0.0, 0.0, 0.0, 0.0, 0.0, 0.0, 0.0, 0.0, 0.0, 0.0, 0.0, 0.0, 0.0, 0.0, 0.0, 0.0, 0.0, 0.0, 0.0, 0.0, 0.0, 0.0, 0.0, 0.0, 0.0, 0.0, 0.0, 0.0, 0.0, 0.0, 0.0, 0.0, 0.0, 0.0, 0.0, 0.0, 0.0, 0.0, 0.0, 0.0, 0.0, 0.0, 0.0, 0.0, 0.0, 0.0, 0.0, 0.0, 0.0, 0.0, 0.0, 0.0, 0.0, 0.0, 0.0, 0.0, 0.0, 0.0, 0.0, 0.0, 0.0, 0.0, 0.0, 0.0, 0.0, 0.0, 0.0, 0.0, 0.0, 0.0, 0.0, 0.0, 0.0, 0.0, 0.0, 0.0, 0.0, 0.0, 0.0, 0.0, 0.0, 0.0, 1.0, 0.0, 0.0, 0.0, 0.0, 0.0, 0.0, 0.0, 0.0, 0.0, 0.0, 0.0, 0.0, 0.0, 0.0, 0.0]  |\n",
            "|1iJBSr7s7jYXzM8EGcbK5b|Ingrid Michaelson;ZAYN              |To Begin Again                                        |To Begin Again                  |57        |false   |0.438       |0.359 |-9.734  |1   |0.0557     |0.21        |0.0             |0.117   |0.12   |76.332 |acoustic   |[57.0,0.438,0.359,-9.734,1.0,0.0557,0.21,0.0,0.117,0.12,76.332]         |[0.5951815199603877,0.004573500100748242,0.0037485993976452484,-0.10164029675955111,0.010441781051936626,5.8160720459287E-4,0.002192774020906691,0.0,0.0012216883830765853,0.001253013726232395,0.7970420312564265]                   |97.0        |(113,[97],[1.0])|[0.5951815199603877, 0.004573500100748242, 0.0037485993976452484, -0.10164029675955111, 0.010441781051936626, 5.8160720459287E-4, 0.002192774020906691, 0.0, 0.0012216883830765853, 0.001253013726232395, 0.7970420312564265, 0.0, 0.0, 0.0, 0.0, 0.0, 0.0, 0.0, 0.0, 0.0, 0.0, 0.0, 0.0, 0.0, 0.0, 0.0, 0.0, 0.0, 0.0, 0.0, 0.0, 0.0, 0.0, 0.0, 0.0, 0.0, 0.0, 0.0, 0.0, 0.0, 0.0, 0.0, 0.0, 0.0, 0.0, 0.0, 0.0, 0.0, 0.0, 0.0, 0.0, 0.0, 0.0, 0.0, 0.0, 0.0, 0.0, 0.0, 0.0, 0.0, 0.0, 0.0, 0.0, 0.0, 0.0, 0.0, 0.0, 0.0, 0.0, 0.0, 0.0, 0.0, 0.0, 0.0, 0.0, 0.0, 0.0, 0.0, 0.0, 0.0, 0.0, 0.0, 0.0, 0.0, 0.0, 0.0, 0.0, 0.0, 0.0, 0.0, 0.0, 0.0, 0.0, 0.0, 0.0, 0.0, 0.0, 0.0, 0.0, 0.0, 0.0, 0.0, 0.0, 0.0, 0.0, 0.0, 0.0, 0.0, 1.0, 0.0, 0.0, 0.0, 0.0, 0.0, 0.0, 0.0, 0.0, 0.0, 0.0, 0.0, 0.0, 0.0, 0.0, 0.0]                   |\n",
            "|6lfxq3CG4xtTiEg7opyCyx|Kina Grannis                        |Crazy Rich Asians (Original Motion Picture Soundtrack)|Can't Help Falling In Love      |71        |false   |0.266       |0.0596|-18.515 |1   |0.0363     |0.905       |7.07E-5         |0.132   |0.143  |181.74 |acoustic   |[71.0,0.266,0.0596,-18.515,1.0,0.0363,0.905,7.07E-5,0.132,0.143,181.74] |[0.3622488332081125,0.00135715760046983,3.0408493604511976E-4,-0.09446531192743948,0.005102096242367782,1.8520609359795048E-4,0.004617397099342843,3.6071820433540214E-7,6.734767039925472E-4,7.295997626585927E-4,0.9272549710879207]|97.0        |(113,[97],[1.0])|[0.3622488332081125, 0.00135715760046983, 3.0408493604511976E-4, -0.09446531192743948, 0.005102096242367782, 1.8520609359795048E-4, 0.004617397099342843, 3.6071820433540214E-7, 6.734767039925472E-4, 7.295997626585927E-4, 0.9272549710879207, 0.0, 0.0, 0.0, 0.0, 0.0, 0.0, 0.0, 0.0, 0.0, 0.0, 0.0, 0.0, 0.0, 0.0, 0.0, 0.0, 0.0, 0.0, 0.0, 0.0, 0.0, 0.0, 0.0, 0.0, 0.0, 0.0, 0.0, 0.0, 0.0, 0.0, 0.0, 0.0, 0.0, 0.0, 0.0, 0.0, 0.0, 0.0, 0.0, 0.0, 0.0, 0.0, 0.0, 0.0, 0.0, 0.0, 0.0, 0.0, 0.0, 0.0, 0.0, 0.0, 0.0, 0.0, 0.0, 0.0, 0.0, 0.0, 0.0, 0.0, 0.0, 0.0, 0.0, 0.0, 0.0, 0.0, 0.0, 0.0, 0.0, 0.0, 0.0, 0.0, 0.0, 0.0, 0.0, 0.0, 0.0, 0.0, 0.0, 0.0, 0.0, 0.0, 0.0, 0.0, 0.0, 0.0, 0.0, 0.0, 0.0, 0.0, 0.0, 0.0, 0.0, 0.0, 0.0, 0.0, 0.0, 1.0, 0.0, 0.0, 0.0, 0.0, 0.0, 0.0, 0.0, 0.0, 0.0, 0.0, 0.0, 0.0, 0.0, 0.0, 0.0]|\n",
            "|5vjLSffimiIP26QG5WcN2K|Chord Overstreet                    |Hold On                                               |Hold On                         |82        |false   |0.618       |0.443 |-9.681  |1   |0.0526     |0.469       |0.0             |0.0829  |0.167  |119.949|acoustic   |[82.0,0.618,0.443,-9.681,1.0,0.0526,0.469,0.0,0.0829,0.167,119.949]     |[0.5630811090859847,0.00424370884652608,0.003042011357623064,-0.06647790508611484,0.00686684279373152,3.61195930950278E-4,0.003220549270260083,0.0,5.692612676003431E-4,0.001146762746553164,0.8236709262653021]                      |97.0        |(113,[97],[1.0])|[0.5630811090859847, 0.00424370884652608, 0.003042011357623064, -0.06647790508611484, 0.00686684279373152, 3.61195930950278E-4, 0.003220549270260083, 0.0, 5.692612676003431E-4, 0.001146762746553164, 0.8236709262653021, 0.0, 0.0, 0.0, 0.0, 0.0, 0.0, 0.0, 0.0, 0.0, 0.0, 0.0, 0.0, 0.0, 0.0, 0.0, 0.0, 0.0, 0.0, 0.0, 0.0, 0.0, 0.0, 0.0, 0.0, 0.0, 0.0, 0.0, 0.0, 0.0, 0.0, 0.0, 0.0, 0.0, 0.0, 0.0, 0.0, 0.0, 0.0, 0.0, 0.0, 0.0, 0.0, 0.0, 0.0, 0.0, 0.0, 0.0, 0.0, 0.0, 0.0, 0.0, 0.0, 0.0, 0.0, 0.0, 0.0, 0.0, 0.0, 0.0, 0.0, 0.0, 0.0, 0.0, 0.0, 0.0, 0.0, 0.0, 0.0, 0.0, 0.0, 0.0, 0.0, 0.0, 0.0, 0.0, 0.0, 0.0, 0.0, 0.0, 0.0, 0.0, 0.0, 0.0, 0.0, 0.0, 0.0, 0.0, 0.0, 0.0, 0.0, 0.0, 0.0, 0.0, 0.0, 0.0, 0.0, 0.0, 1.0, 0.0, 0.0, 0.0, 0.0, 0.0, 0.0, 0.0, 0.0, 0.0, 0.0, 0.0, 0.0, 0.0, 0.0, 0.0]                      |\n",
            "|01MVOl9KtVTNfFiBU9I7dc|Tyrone Wells                        |Days I Will Remember                                  |Days I Will Remember            |58        |false   |0.688       |0.481 |-8.807  |1   |0.105      |0.289       |0.0             |0.189   |0.666  |98.017 |acoustic   |[58.0,0.688,0.481,-8.807,1.0,0.105,0.289,0.0,0.189,0.666,98.017]        |[0.5076953697217327,0.0060223174891129655,0.004210370221312989,-0.07709091588171206,0.00875336844347815,9.191036865652056E-4,0.0025297234801651847,0.0,0.0016543866358173702,0.005829743383356447,0.8579789147243977]                 |97.0        |(113,[97],[1.0])|[0.5076953697217327, 0.0060223174891129655, 0.004210370221312989, -0.07709091588171206, 0.00875336844347815, 9.191036865652056E-4, 0.0025297234801651847, 0.0, 0.0016543866358173702, 0.005829743383356447, 0.8579789147243977, 0.0, 0.0, 0.0, 0.0, 0.0, 0.0, 0.0, 0.0, 0.0, 0.0, 0.0, 0.0, 0.0, 0.0, 0.0, 0.0, 0.0, 0.0, 0.0, 0.0, 0.0, 0.0, 0.0, 0.0, 0.0, 0.0, 0.0, 0.0, 0.0, 0.0, 0.0, 0.0, 0.0, 0.0, 0.0, 0.0, 0.0, 0.0, 0.0, 0.0, 0.0, 0.0, 0.0, 0.0, 0.0, 0.0, 0.0, 0.0, 0.0, 0.0, 0.0, 0.0, 0.0, 0.0, 0.0, 0.0, 0.0, 0.0, 0.0, 0.0, 0.0, 0.0, 0.0, 0.0, 0.0, 0.0, 0.0, 0.0, 0.0, 0.0, 0.0, 0.0, 0.0, 0.0, 0.0, 0.0, 0.0, 0.0, 0.0, 0.0, 0.0, 0.0, 0.0, 0.0, 0.0, 0.0, 0.0, 0.0, 0.0, 0.0, 0.0, 0.0, 0.0, 0.0, 0.0, 0.0, 0.0, 1.0, 0.0, 0.0, 0.0, 0.0, 0.0, 0.0, 0.0, 0.0, 0.0, 0.0, 0.0, 0.0, 0.0, 0.0, 0.0]                 |\n",
            "|6Vc5wAMmXdKIAM7WUoEb7N|A Great Big World;Christina Aguilera|Is There Anybody Out There?                           |Say Something                   |74        |false   |0.407       |0.147 |-8.822  |1   |0.0355     |0.857       |2.89E-6         |0.0913  |0.0765 |141.284|acoustic   |[74.0,0.407,0.147,-8.822,1.0,0.0355,0.857,2.89E-6,0.0913,0.0765,141.284]|[0.46325218762213555,0.002547887031921745,9.202442105466747E-4,-0.05522717296219567,0.006260164697596426,2.2223584676467313E-4,0.005364961145840137,1.809187597605367E-8,5.715530368905538E-4,4.789025993661266E-4,0.8844611091352135]|97.0        |(113,[97],[1.0])|[0.46325218762213555, 0.002547887031921745, 9.202442105466747E-4, -0.05522717296219567, 0.006260164697596426, 2.2223584676467313E-4, 0.005364961145840137, 1.809187597605367E-8, 5.715530368905538E-4, 4.789025993661266E-4, 0.8844611091352135, 0.0, 0.0, 0.0, 0.0, 0.0, 0.0, 0.0, 0.0, 0.0, 0.0, 0.0, 0.0, 0.0, 0.0, 0.0, 0.0, 0.0, 0.0, 0.0, 0.0, 0.0, 0.0, 0.0, 0.0, 0.0, 0.0, 0.0, 0.0, 0.0, 0.0, 0.0, 0.0, 0.0, 0.0, 0.0, 0.0, 0.0, 0.0, 0.0, 0.0, 0.0, 0.0, 0.0, 0.0, 0.0, 0.0, 0.0, 0.0, 0.0, 0.0, 0.0, 0.0, 0.0, 0.0, 0.0, 0.0, 0.0, 0.0, 0.0, 0.0, 0.0, 0.0, 0.0, 0.0, 0.0, 0.0, 0.0, 0.0, 0.0, 0.0, 0.0, 0.0, 0.0, 0.0, 0.0, 0.0, 0.0, 0.0, 0.0, 0.0, 0.0, 0.0, 0.0, 0.0, 0.0, 0.0, 0.0, 0.0, 0.0, 0.0, 0.0, 0.0, 0.0, 0.0, 0.0, 0.0, 0.0, 1.0, 0.0, 0.0, 0.0, 0.0, 0.0, 0.0, 0.0, 0.0, 0.0, 0.0, 0.0, 0.0, 0.0, 0.0, 0.0]|\n",
            "|1EzrEOXmMH3G43AXT1y7pA|Jason Mraz                          |We Sing. We Dance. We Steal Things.                   |I'm Yours                       |80        |false   |0.703       |0.444 |-9.331  |1   |0.0417     |0.559       |0.0             |0.0973  |0.712  |150.96 |acoustic   |[80.0,0.703,0.444,-9.331,1.0,0.0417,0.559,0.0,0.0973,0.712,150.96]      |[0.46753646927699516,0.0041084767237715945,0.0025948274044873235,-0.05453228493529552,0.00584420586596244,2.4370338461063374E-4,0.003266911079073004,0.0,5.686412307581454E-4,0.004161074576565257,0.88224131752569]                  |97.0        |(113,[97],[1.0])|[0.46753646927699516, 0.0041084767237715945, 0.0025948274044873235, -0.05453228493529552, 0.00584420586596244, 2.4370338461063374E-4, 0.003266911079073004, 0.0, 5.686412307581454E-4, 0.004161074576565257, 0.88224131752569, 0.0, 0.0, 0.0, 0.0, 0.0, 0.0, 0.0, 0.0, 0.0, 0.0, 0.0, 0.0, 0.0, 0.0, 0.0, 0.0, 0.0, 0.0, 0.0, 0.0, 0.0, 0.0, 0.0, 0.0, 0.0, 0.0, 0.0, 0.0, 0.0, 0.0, 0.0, 0.0, 0.0, 0.0, 0.0, 0.0, 0.0, 0.0, 0.0, 0.0, 0.0, 0.0, 0.0, 0.0, 0.0, 0.0, 0.0, 0.0, 0.0, 0.0, 0.0, 0.0, 0.0, 0.0, 0.0, 0.0, 0.0, 0.0, 0.0, 0.0, 0.0, 0.0, 0.0, 0.0, 0.0, 0.0, 0.0, 0.0, 0.0, 0.0, 0.0, 0.0, 0.0, 0.0, 0.0, 0.0, 0.0, 0.0, 0.0, 0.0, 0.0, 0.0, 0.0, 0.0, 0.0, 0.0, 0.0, 0.0, 0.0, 0.0, 0.0, 0.0, 0.0, 0.0, 0.0, 0.0, 0.0, 1.0, 0.0, 0.0, 0.0, 0.0, 0.0, 0.0, 0.0, 0.0, 0.0, 0.0, 0.0, 0.0, 0.0, 0.0, 0.0]                  |\n",
            "|0IktbUcnAGrvD03AWnz3Q8|Jason Mraz;Colbie Caillat           |We Sing. We Dance. We Steal Things.                   |Lucky                           |74        |false   |0.625       |0.414 |-8.7    |1   |0.0369     |0.294       |0.0             |0.151   |0.669  |130.088|acoustic   |[74.0,0.625,0.414,-8.7,1.0,0.0369,0.294,0.0,0.151,0.669,130.088]        |[0.49358899171897364,0.004168825943572412,0.002761430305022366,-0.058030057134527975,0.00667012150971586,2.4612748370851526E-4,0.0019610157238564626,0.0,0.0010071883479670948,0.00446231128999991,0.8677027669559167]                |97.0        |(113,[97],[1.0])|[0.49358899171897364, 0.004168825943572412, 0.002761430305022366, -0.058030057134527975, 0.00667012150971586, 2.4612748370851526E-4, 0.0019610157238564626, 0.0, 0.0010071883479670948, 0.00446231128999991, 0.8677027669559167, 0.0, 0.0, 0.0, 0.0, 0.0, 0.0, 0.0, 0.0, 0.0, 0.0, 0.0, 0.0, 0.0, 0.0, 0.0, 0.0, 0.0, 0.0, 0.0, 0.0, 0.0, 0.0, 0.0, 0.0, 0.0, 0.0, 0.0, 0.0, 0.0, 0.0, 0.0, 0.0, 0.0, 0.0, 0.0, 0.0, 0.0, 0.0, 0.0, 0.0, 0.0, 0.0, 0.0, 0.0, 0.0, 0.0, 0.0, 0.0, 0.0, 0.0, 0.0, 0.0, 0.0, 0.0, 0.0, 0.0, 0.0, 0.0, 0.0, 0.0, 0.0, 0.0, 0.0, 0.0, 0.0, 0.0, 0.0, 0.0, 0.0, 0.0, 0.0, 0.0, 0.0, 0.0, 0.0, 0.0, 0.0, 0.0, 0.0, 0.0, 0.0, 0.0, 0.0, 0.0, 0.0, 0.0, 0.0, 0.0, 0.0, 0.0, 0.0, 0.0, 0.0, 0.0, 0.0, 0.0, 0.0, 1.0, 0.0, 0.0, 0.0, 0.0, 0.0, 0.0, 0.0, 0.0, 0.0, 0.0, 0.0, 0.0, 0.0, 0.0, 0.0]                |\n",
            "|7k9GuJYLp2AzqokyEdwEw2|Ross Copperman                      |Hunger                                                |Hunger                          |56        |false   |0.442       |0.632 |-6.77   |1   |0.0295     |0.426       |0.00419         |0.0735  |0.196  |78.899 |acoustic   |[56.0,0.442,0.632,-6.77,1.0,0.0295,0.426,0.00419,0.0735,0.196,78.899]   |[0.5773286053200412,0.004556772206276039,0.006515565688611893,-0.06979490460744069,0.01030943938071502,3.041284617310931E-4,0.004391821176184599,4.319655100519594E-5,7.57743794482554E-4,0.0020206501186201442,0.8134044576990345]   |97.0        |(113,[97],[1.0])|[0.5773286053200412, 0.004556772206276039, 0.006515565688611893, -0.06979490460744069, 0.01030943938071502, 3.041284617310931E-4, 0.004391821176184599, 4.319655100519594E-5, 7.57743794482554E-4, 0.0020206501186201442, 0.8134044576990345, 0.0, 0.0, 0.0, 0.0, 0.0, 0.0, 0.0, 0.0, 0.0, 0.0, 0.0, 0.0, 0.0, 0.0, 0.0, 0.0, 0.0, 0.0, 0.0, 0.0, 0.0, 0.0, 0.0, 0.0, 0.0, 0.0, 0.0, 0.0, 0.0, 0.0, 0.0, 0.0, 0.0, 0.0, 0.0, 0.0, 0.0, 0.0, 0.0, 0.0, 0.0, 0.0, 0.0, 0.0, 0.0, 0.0, 0.0, 0.0, 0.0, 0.0, 0.0, 0.0, 0.0, 0.0, 0.0, 0.0, 0.0, 0.0, 0.0, 0.0, 0.0, 0.0, 0.0, 0.0, 0.0, 0.0, 0.0, 0.0, 0.0, 0.0, 0.0, 0.0, 0.0, 0.0, 0.0, 0.0, 0.0, 0.0, 0.0, 0.0, 0.0, 0.0, 0.0, 0.0, 0.0, 0.0, 0.0, 0.0, 0.0, 0.0, 0.0, 0.0, 0.0, 0.0, 0.0, 0.0, 0.0, 1.0, 0.0, 0.0, 0.0, 0.0, 0.0, 0.0, 0.0, 0.0, 0.0, 0.0, 0.0, 0.0, 0.0, 0.0, 0.0]   |\n",
            "|4mzP5mHkRvGxdhdGdAH7EJ|Zack Tabudlo                        |Episode                                               |Give Me Your Forever            |74        |false   |0.627       |0.363 |-8.127  |1   |0.0291     |0.279       |0.0             |0.0928  |0.301  |99.905 |acoustic   |[74.0,0.627,0.363,-8.127,1.0,0.0291,0.279,0.0,0.0928,0.301,99.905]      |[0.5939081334074972,0.005032167562790551,0.0029133601679313713,-0.06522555946219906,0.0080257855865878,2.33550360569705E-4,0.0022391941786579963,0.0,7.447929024353478E-4,0.002415761461562928,0.8018161090280541]                    |97.0        |(113,[97],[1.0])|[0.5939081334074972, 0.005032167562790551, 0.0029133601679313713, -0.06522555946219906, 0.0080257855865878, 2.33550360569705E-4, 0.0022391941786579963, 0.0, 7.447929024353478E-4, 0.002415761461562928, 0.8018161090280541, 0.0, 0.0, 0.0, 0.0, 0.0, 0.0, 0.0, 0.0, 0.0, 0.0, 0.0, 0.0, 0.0, 0.0, 0.0, 0.0, 0.0, 0.0, 0.0, 0.0, 0.0, 0.0, 0.0, 0.0, 0.0, 0.0, 0.0, 0.0, 0.0, 0.0, 0.0, 0.0, 0.0, 0.0, 0.0, 0.0, 0.0, 0.0, 0.0, 0.0, 0.0, 0.0, 0.0, 0.0, 0.0, 0.0, 0.0, 0.0, 0.0, 0.0, 0.0, 0.0, 0.0, 0.0, 0.0, 0.0, 0.0, 0.0, 0.0, 0.0, 0.0, 0.0, 0.0, 0.0, 0.0, 0.0, 0.0, 0.0, 0.0, 0.0, 0.0, 0.0, 0.0, 0.0, 0.0, 0.0, 0.0, 0.0, 0.0, 0.0, 0.0, 0.0, 0.0, 0.0, 0.0, 0.0, 0.0, 0.0, 0.0, 0.0, 0.0, 0.0, 0.0, 0.0, 0.0, 0.0, 0.0, 1.0, 0.0, 0.0, 0.0, 0.0, 0.0, 0.0, 0.0, 0.0, 0.0, 0.0, 0.0, 0.0, 0.0, 0.0, 0.0]                    |\n",
            "|5ivF4eQBqJiVL5IAE9jRyl|Jason Mraz                          |Love Is a Four Letter Word                            |I Won't Give Up                 |69        |false   |0.483       |0.303 |-10.058 |1   |0.0429     |0.694       |0.0             |0.115   |0.139  |133.406|acoustic   |[69.0,0.483,0.303,-10.058,1.0,0.0429,0.694,0.0,0.115,0.139,133.406]     |[0.45836133026867854,0.00320852931188075,0.002012804102484197,-0.06681446753394737,0.006642917829980849,2.849811749061784E-4,0.004610184974006708,0.0,7.639355504477976E-4,9.233655783673381E-4,0.8862050960264252]                   |97.0        |(113,[97],[1.0])|[0.45836133026867854, 0.00320852931188075, 0.002012804102484197, -0.06681446753394737, 0.006642917829980849, 2.849811749061784E-4, 0.004610184974006708, 0.0, 7.639355504477976E-4, 9.233655783673381E-4, 0.8862050960264252, 0.0, 0.0, 0.0, 0.0, 0.0, 0.0, 0.0, 0.0, 0.0, 0.0, 0.0, 0.0, 0.0, 0.0, 0.0, 0.0, 0.0, 0.0, 0.0, 0.0, 0.0, 0.0, 0.0, 0.0, 0.0, 0.0, 0.0, 0.0, 0.0, 0.0, 0.0, 0.0, 0.0, 0.0, 0.0, 0.0, 0.0, 0.0, 0.0, 0.0, 0.0, 0.0, 0.0, 0.0, 0.0, 0.0, 0.0, 0.0, 0.0, 0.0, 0.0, 0.0, 0.0, 0.0, 0.0, 0.0, 0.0, 0.0, 0.0, 0.0, 0.0, 0.0, 0.0, 0.0, 0.0, 0.0, 0.0, 0.0, 0.0, 0.0, 0.0, 0.0, 0.0, 0.0, 0.0, 0.0, 0.0, 0.0, 0.0, 0.0, 0.0, 0.0, 0.0, 0.0, 0.0, 0.0, 0.0, 0.0, 0.0, 0.0, 0.0, 0.0, 0.0, 0.0, 0.0, 0.0, 0.0, 1.0, 0.0, 0.0, 0.0, 0.0, 0.0, 0.0, 0.0, 0.0, 0.0, 0.0, 0.0, 0.0, 0.0, 0.0, 0.0]                   |\n",
            "|4ptDJbJl35d7gQfeNteBwp|Dan Berk                            |Solo                                                  |Solo                            |52        |false   |0.489       |0.314 |-9.245  |0   |0.0331     |0.749       |0.0             |0.113   |0.607  |124.234|acoustic   |[52.0,0.489,0.314,-9.245,0.0,0.0331,0.749,0.0,0.113,0.607,124.234]      |[0.38518689911102383,0.0036222383397171275,0.002325936275401182,-0.06848178619771951,0.0,2.451862761649017E-4,0.005548172835272247,0.0,8.370407615297249E-4,0.004496316303084451,0.920255946618441]                                   |97.0        |(113,[97],[1.0])|[0.38518689911102383, 0.0036222383397171275, 0.002325936275401182, -0.06848178619771951, 0.0, 2.451862761649017E-4, 0.005548172835272247, 0.0, 8.370407615297249E-4, 0.004496316303084451, 0.920255946618441, 0.0, 0.0, 0.0, 0.0, 0.0, 0.0, 0.0, 0.0, 0.0, 0.0, 0.0, 0.0, 0.0, 0.0, 0.0, 0.0, 0.0, 0.0, 0.0, 0.0, 0.0, 0.0, 0.0, 0.0, 0.0, 0.0, 0.0, 0.0, 0.0, 0.0, 0.0, 0.0, 0.0, 0.0, 0.0, 0.0, 0.0, 0.0, 0.0, 0.0, 0.0, 0.0, 0.0, 0.0, 0.0, 0.0, 0.0, 0.0, 0.0, 0.0, 0.0, 0.0, 0.0, 0.0, 0.0, 0.0, 0.0, 0.0, 0.0, 0.0, 0.0, 0.0, 0.0, 0.0, 0.0, 0.0, 0.0, 0.0, 0.0, 0.0, 0.0, 0.0, 0.0, 0.0, 0.0, 0.0, 0.0, 0.0, 0.0, 0.0, 0.0, 0.0, 0.0, 0.0, 0.0, 0.0, 0.0, 0.0, 0.0, 0.0, 0.0, 0.0, 0.0, 0.0, 0.0, 0.0, 0.0, 1.0, 0.0, 0.0, 0.0, 0.0, 0.0, 0.0, 0.0, 0.0, 0.0, 0.0, 0.0, 0.0, 0.0, 0.0, 0.0]                                   |\n",
            "|0X9MxHR1rTkEHDjp95F2OO|Anna Hamilton                       |Bad Liar                                              |Bad Liar                        |62        |false   |0.691       |0.234 |-6.441  |1   |0.0285     |0.777       |0.0             |0.12    |0.209  |87.103 |acoustic   |[62.0,0.691,0.234,-6.441,1.0,0.0285,0.777,0.0,0.12,0.209,87.103]        |[0.5787921708985061,0.006450732098239801,0.0021844736772621037,-0.06012903827027867,0.009335357595137194,2.6605769146141004E-4,0.0072535728514216006,0.0,0.0011202429114164634,0.0019510897373836735,0.813137652609235]               |97.0        |(113,[97],[1.0])|[0.5787921708985061, 0.006450732098239801, 0.0021844736772621037, -0.06012903827027867, 0.009335357595137194, 2.6605769146141004E-4, 0.0072535728514216006, 0.0, 0.0011202429114164634, 0.0019510897373836735, 0.813137652609235, 0.0, 0.0, 0.0, 0.0, 0.0, 0.0, 0.0, 0.0, 0.0, 0.0, 0.0, 0.0, 0.0, 0.0, 0.0, 0.0, 0.0, 0.0, 0.0, 0.0, 0.0, 0.0, 0.0, 0.0, 0.0, 0.0, 0.0, 0.0, 0.0, 0.0, 0.0, 0.0, 0.0, 0.0, 0.0, 0.0, 0.0, 0.0, 0.0, 0.0, 0.0, 0.0, 0.0, 0.0, 0.0, 0.0, 0.0, 0.0, 0.0, 0.0, 0.0, 0.0, 0.0, 0.0, 0.0, 0.0, 0.0, 0.0, 0.0, 0.0, 0.0, 0.0, 0.0, 0.0, 0.0, 0.0, 0.0, 0.0, 0.0, 0.0, 0.0, 0.0, 0.0, 0.0, 0.0, 0.0, 0.0, 0.0, 0.0, 0.0, 0.0, 0.0, 0.0, 0.0, 0.0, 0.0, 0.0, 0.0, 0.0, 0.0, 0.0, 0.0, 0.0, 0.0, 0.0, 0.0, 0.0, 1.0, 0.0, 0.0, 0.0, 0.0, 0.0, 0.0, 0.0, 0.0, 0.0, 0.0, 0.0, 0.0, 0.0, 0.0, 0.0]               |\n",
            "|4LbWtBkN82ZRhz9jqzgrb3|Chord Overstreet;Deepend            |Hold On (Remix)                                       |Hold On - Remix                 |56        |false   |0.755       |0.78  |-6.084  |1   |0.0327     |0.124       |2.83E-5         |0.121   |0.387  |120.004|acoustic   |[56.0,0.755,0.78,-6.084,1.0,0.0327,0.124,2.83E-5,0.121,0.387,120.004]   |[0.4223999656878039,0.005694856680255214,0.005883428093508698,-0.045890739129367836,0.007542856530139356,2.4665140853555697E-4,9.353142097372801E-4,2.1346283980294378E-7,9.12685640146862E-4,0.002919085477163931,0.9051729550428433]|97.0        |(113,[97],[1.0])|[0.4223999656878039, 0.005694856680255214, 0.005883428093508698, -0.045890739129367836, 0.007542856530139356, 2.4665140853555697E-4, 9.353142097372801E-4, 2.1346283980294378E-7, 9.12685640146862E-4, 0.002919085477163931, 0.9051729550428433, 0.0, 0.0, 0.0, 0.0, 0.0, 0.0, 0.0, 0.0, 0.0, 0.0, 0.0, 0.0, 0.0, 0.0, 0.0, 0.0, 0.0, 0.0, 0.0, 0.0, 0.0, 0.0, 0.0, 0.0, 0.0, 0.0, 0.0, 0.0, 0.0, 0.0, 0.0, 0.0, 0.0, 0.0, 0.0, 0.0, 0.0, 0.0, 0.0, 0.0, 0.0, 0.0, 0.0, 0.0, 0.0, 0.0, 0.0, 0.0, 0.0, 0.0, 0.0, 0.0, 0.0, 0.0, 0.0, 0.0, 0.0, 0.0, 0.0, 0.0, 0.0, 0.0, 0.0, 0.0, 0.0, 0.0, 0.0, 0.0, 0.0, 0.0, 0.0, 0.0, 0.0, 0.0, 0.0, 0.0, 0.0, 0.0, 0.0, 0.0, 0.0, 0.0, 0.0, 0.0, 0.0, 0.0, 0.0, 0.0, 0.0, 0.0, 0.0, 0.0, 0.0, 0.0, 0.0, 0.0, 0.0, 1.0, 0.0, 0.0, 0.0, 0.0, 0.0, 0.0, 0.0, 0.0, 0.0, 0.0, 0.0, 0.0, 0.0, 0.0, 0.0]|\n",
            "|1KHdq8NK9QxnGjdXb55NiG|Landon Pigg                         |The Boy Who Never                                     |Falling in Love at a Coffee Shop|58        |false   |0.489       |0.561 |-7.933  |1   |0.0274     |0.2         |4.56E-5         |0.179   |0.238  |83.457 |acoustic   |[58.0,0.489,0.561,-7.933,1.0,0.0274,0.2,4.56E-5,0.179,0.238,83.457]     |[0.5689094981277257,0.004796495596283756,0.0055027280767181745,-0.0778130870456422,0.009808784450478029,2.68760693943098E-4,0.001961756890095606,4.472805709417981E-7,0.001755772416635567,0.002334490699213771,0.8186117238835449]   |97.0        |(113,[97],[1.0])|[0.5689094981277257, 0.004796495596283756, 0.0055027280767181745, -0.0778130870456422, 0.009808784450478029, 2.68760693943098E-4, 0.001961756890095606, 4.472805709417981E-7, 0.001755772416635567, 0.002334490699213771, 0.8186117238835449, 0.0, 0.0, 0.0, 0.0, 0.0, 0.0, 0.0, 0.0, 0.0, 0.0, 0.0, 0.0, 0.0, 0.0, 0.0, 0.0, 0.0, 0.0, 0.0, 0.0, 0.0, 0.0, 0.0, 0.0, 0.0, 0.0, 0.0, 0.0, 0.0, 0.0, 0.0, 0.0, 0.0, 0.0, 0.0, 0.0, 0.0, 0.0, 0.0, 0.0, 0.0, 0.0, 0.0, 0.0, 0.0, 0.0, 0.0, 0.0, 0.0, 0.0, 0.0, 0.0, 0.0, 0.0, 0.0, 0.0, 0.0, 0.0, 0.0, 0.0, 0.0, 0.0, 0.0, 0.0, 0.0, 0.0, 0.0, 0.0, 0.0, 0.0, 0.0, 0.0, 0.0, 0.0, 0.0, 0.0, 0.0, 0.0, 0.0, 0.0, 0.0, 0.0, 0.0, 0.0, 0.0, 0.0, 0.0, 0.0, 0.0, 0.0, 0.0, 0.0, 0.0, 0.0, 0.0, 0.0, 0.0, 1.0, 0.0, 0.0, 0.0, 0.0, 0.0, 0.0, 0.0, 0.0, 0.0, 0.0, 0.0, 0.0, 0.0, 0.0, 0.0]   |\n",
            "|6xKeQgzfjixSUld14qUezm|Andrew Foy;Renee Foy                |ily (i love you baby)                                 |ily (i love you baby)           |56        |false   |0.706       |0.112 |-18.098 |1   |0.0391     |0.827       |4.03E-6         |0.125   |0.414  |110.154|acoustic   |[56.0,0.706,0.112,-18.098,1.0,0.0391,0.827,4.03E-6,0.125,0.414,110.154] |[0.44836134868724614,0.0056525555745213524,8.967226973744923E-4,-0.1449007801525318,0.008006452655129396,3.130522988155594E-4,0.00662133634579201,3.226600420017147E-8,0.0010008065818911745,0.0033146713992235695,0.8819427857731233]|97.0        |(113,[97],[1.0])|[0.44836134868724614, 0.0056525555745213524, 8.967226973744923E-4, -0.1449007801525318, 0.008006452655129396, 3.130522988155594E-4, 0.00662133634579201, 3.226600420017147E-8, 0.0010008065818911745, 0.0033146713992235695, 0.8819427857731233, 0.0, 0.0, 0.0, 0.0, 0.0, 0.0, 0.0, 0.0, 0.0, 0.0, 0.0, 0.0, 0.0, 0.0, 0.0, 0.0, 0.0, 0.0, 0.0, 0.0, 0.0, 0.0, 0.0, 0.0, 0.0, 0.0, 0.0, 0.0, 0.0, 0.0, 0.0, 0.0, 0.0, 0.0, 0.0, 0.0, 0.0, 0.0, 0.0, 0.0, 0.0, 0.0, 0.0, 0.0, 0.0, 0.0, 0.0, 0.0, 0.0, 0.0, 0.0, 0.0, 0.0, 0.0, 0.0, 0.0, 0.0, 0.0, 0.0, 0.0, 0.0, 0.0, 0.0, 0.0, 0.0, 0.0, 0.0, 0.0, 0.0, 0.0, 0.0, 0.0, 0.0, 0.0, 0.0, 0.0, 0.0, 0.0, 0.0, 0.0, 0.0, 0.0, 0.0, 0.0, 0.0, 0.0, 0.0, 0.0, 0.0, 0.0, 0.0, 0.0, 0.0, 0.0, 0.0, 0.0, 0.0, 1.0, 0.0, 0.0, 0.0, 0.0, 0.0, 0.0, 0.0, 0.0, 0.0, 0.0, 0.0, 0.0, 0.0, 0.0, 0.0]|\n",
            "|4Yo0igmcoNyat1secaH0OD|Andrew Foy;Renee Foy                |At My Worst                                           |At My Worst                     |54        |false   |0.795       |0.0841|-18.09  |0   |0.0461     |0.742       |1.17E-5         |0.0853  |0.609  |91.803 |acoustic   |[54.0,0.795,0.0841,-18.09,0.0,0.0461,0.742,1.17E-5,0.0853,0.609,91.803] |[0.49981558447821167,0.0073583961048181165,7.784164936040296E-4,-0.1674382208002009,0.0,4.2669441563788075E-4,0.006867836364496909,1.0829337663694587E-7,7.895235065924344E-4,0.005636809091615388,0.8497142611454308]                |97.0        |(113,[97],[1.0])|[0.49981558447821167, 0.0073583961048181165, 7.784164936040296E-4, -0.1674382208002009, 0.0, 4.2669441563788075E-4, 0.006867836364496909, 1.0829337663694587E-7, 7.895235065924344E-4, 0.005636809091615388, 0.8497142611454308, 0.0, 0.0, 0.0, 0.0, 0.0, 0.0, 0.0, 0.0, 0.0, 0.0, 0.0, 0.0, 0.0, 0.0, 0.0, 0.0, 0.0, 0.0, 0.0, 0.0, 0.0, 0.0, 0.0, 0.0, 0.0, 0.0, 0.0, 0.0, 0.0, 0.0, 0.0, 0.0, 0.0, 0.0, 0.0, 0.0, 0.0, 0.0, 0.0, 0.0, 0.0, 0.0, 0.0, 0.0, 0.0, 0.0, 0.0, 0.0, 0.0, 0.0, 0.0, 0.0, 0.0, 0.0, 0.0, 0.0, 0.0, 0.0, 0.0, 0.0, 0.0, 0.0, 0.0, 0.0, 0.0, 0.0, 0.0, 0.0, 0.0, 0.0, 0.0, 0.0, 0.0, 0.0, 0.0, 0.0, 0.0, 0.0, 0.0, 0.0, 0.0, 0.0, 0.0, 0.0, 0.0, 0.0, 0.0, 0.0, 0.0, 0.0, 0.0, 0.0, 0.0, 0.0, 0.0, 0.0, 0.0, 1.0, 0.0, 0.0, 0.0, 0.0, 0.0, 0.0, 0.0, 0.0, 0.0, 0.0, 0.0, 0.0, 0.0, 0.0, 0.0]                |\n",
            "|2qLMf6TuEC3ruGJg4SMMN6|Jason Mraz;Colbie Caillat           |We Sing. We Dance. We Steal Things.                   |Lucky                           |68        |false   |0.625       |0.414 |-8.7    |1   |0.0369     |0.294       |0.0             |0.151   |0.669  |130.088|acoustic   |[68.0,0.625,0.414,-8.7,1.0,0.0369,0.294,0.0,0.151,0.669,130.088]        |[0.462417102342522,0.00425015719064818,0.0028153041230853542,-0.05916218809382266,0.006800251505037088,2.5092928053586857E-4,0.001999273942480904,0.0,0.0010268379772606002,0.004549368256869812,0.8846311177872647]                  |97.0        |(113,[97],[1.0])|[0.462417102342522, 0.00425015719064818, 0.0028153041230853542, -0.05916218809382266, 0.006800251505037088, 2.5092928053586857E-4, 0.001999273942480904, 0.0, 0.0010268379772606002, 0.004549368256869812, 0.8846311177872647, 0.0, 0.0, 0.0, 0.0, 0.0, 0.0, 0.0, 0.0, 0.0, 0.0, 0.0, 0.0, 0.0, 0.0, 0.0, 0.0, 0.0, 0.0, 0.0, 0.0, 0.0, 0.0, 0.0, 0.0, 0.0, 0.0, 0.0, 0.0, 0.0, 0.0, 0.0, 0.0, 0.0, 0.0, 0.0, 0.0, 0.0, 0.0, 0.0, 0.0, 0.0, 0.0, 0.0, 0.0, 0.0, 0.0, 0.0, 0.0, 0.0, 0.0, 0.0, 0.0, 0.0, 0.0, 0.0, 0.0, 0.0, 0.0, 0.0, 0.0, 0.0, 0.0, 0.0, 0.0, 0.0, 0.0, 0.0, 0.0, 0.0, 0.0, 0.0, 0.0, 0.0, 0.0, 0.0, 0.0, 0.0, 0.0, 0.0, 0.0, 0.0, 0.0, 0.0, 0.0, 0.0, 0.0, 0.0, 0.0, 0.0, 0.0, 0.0, 0.0, 0.0, 0.0, 0.0, 0.0, 0.0, 1.0, 0.0, 0.0, 0.0, 0.0, 0.0, 0.0, 0.0, 0.0, 0.0, 0.0, 0.0, 0.0, 0.0, 0.0, 0.0]                  |\n",
            "|6CgNoAbFJ4Q4Id4EjtbXlC|Boyce Avenue;Bea Miller             |Cover Sessions, Vol. 4                                |Photograph                      |67        |false   |0.717       |0.32  |-8.393  |1   |0.0283     |0.83        |0.0             |0.107   |0.322  |107.946|acoustic   |[67.0,0.717,0.32,-8.393,1.0,0.0283,0.83,0.0,0.107,0.322,107.946]        |[0.5261711159039357,0.0056308162701958495,0.002513056075959096,-0.06591274889226467,0.007853300237372175,2.2224839671763254E-4,0.006518239197018905,0.0,8.403031253988227E-4,0.0025287626764338403,0.8477323474233768]                |97.0        |(113,[97],[1.0])|[0.5261711159039357, 0.0056308162701958495, 0.002513056075959096, -0.06591274889226467, 0.007853300237372175, 2.2224839671763254E-4, 0.006518239197018905, 0.0, 8.403031253988227E-4, 0.0025287626764338403, 0.8477323474233768, 0.0, 0.0, 0.0, 0.0, 0.0, 0.0, 0.0, 0.0, 0.0, 0.0, 0.0, 0.0, 0.0, 0.0, 0.0, 0.0, 0.0, 0.0, 0.0, 0.0, 0.0, 0.0, 0.0, 0.0, 0.0, 0.0, 0.0, 0.0, 0.0, 0.0, 0.0, 0.0, 0.0, 0.0, 0.0, 0.0, 0.0, 0.0, 0.0, 0.0, 0.0, 0.0, 0.0, 0.0, 0.0, 0.0, 0.0, 0.0, 0.0, 0.0, 0.0, 0.0, 0.0, 0.0, 0.0, 0.0, 0.0, 0.0, 0.0, 0.0, 0.0, 0.0, 0.0, 0.0, 0.0, 0.0, 0.0, 0.0, 0.0, 0.0, 0.0, 0.0, 0.0, 0.0, 0.0, 0.0, 0.0, 0.0, 0.0, 0.0, 0.0, 0.0, 0.0, 0.0, 0.0, 0.0, 0.0, 0.0, 0.0, 0.0, 0.0, 0.0, 0.0, 0.0, 0.0, 0.0, 0.0, 1.0, 0.0, 0.0, 0.0, 0.0, 0.0, 0.0, 0.0, 0.0, 0.0, 0.0, 0.0, 0.0, 0.0, 0.0, 0.0]                |\n",
            "+----------------------+------------------------------------+------------------------------------------------------+--------------------------------+----------+--------+------------+------+--------+----+-----------+------------+----------------+--------+-------+-------+-----------+------------------------------------------------------------------------+--------------------------------------------------------------------------------------------------------------------------------------------------------------------------------------------------------------------------------------+------------+----------------+-------------------------------------------------------------------------------------------------------------------------------------------------------------------------------------------------------------------------------------------------------------------------------------------------------------------------------------------------------------------------------------------------------------------------------------------------------------------------------------------------------------------------------------------------------------------------------------------------------------------------------------------------------------------------------------------------------------------------------------------------------------------------------------------------------------------------------------+\n",
            "only showing top 20 rows\n",
            "\n"
          ]
        }
      ]
    },
    {
      "cell_type": "markdown",
      "source": [
        "Cosine similarity score to determine the similarity between two songs."
      ],
      "metadata": {
        "id": "5Ivn0X618ASw"
      }
    },
    {
      "cell_type": "code",
      "source": [
        "from pyspark.sql.functions import udf\n",
        "from pyspark.ml.linalg import Vectors, VectorUDT\n",
        "from pyspark.sql.types import DoubleType\n",
        "import numpy as np\n",
        "\n",
        "# UDF to calculate the dot product of two vectors\n",
        "def cosine_similarity(list_a, list_b):\n",
        "    # Convert lists to numpy arrays\n",
        "    np_a = np.array(list_a)\n",
        "    np_b = np.array(list_b)\n",
        "    # Calculate dot product using numpy\n",
        "    #return float(np.dot(np_a, np_b)) #/ (np.linalg.norm(np_a) * np.linalg.norm(np_b))\n",
        "\n",
        "    # Calculate dot product of features\n",
        "    dot_product = np.dot(np_a, np_b)\n",
        "    dot_product = float(dot_product)\n",
        "\n",
        "    # Calculate the normalization of list a\n",
        "    norm_vec1 = np.linalg.norm(list_a)\n",
        "    norm_vec1 = float(norm_vec1)\n",
        "\n",
        "    # Calculate the normalization of list b\n",
        "    norm_vec2 = np.linalg.norm(list_b)\n",
        "    norm_vec2 = float(norm_vec2)\n",
        "\n",
        "    # Calculate the cosine similarity of all songs\n",
        "    cosine_similarity = dot_product / (norm_vec1 * norm_vec2) if norm_vec1 != 0 and norm_vec2 != 0 else 0.0\n",
        "    return cosine_similarity\n",
        "\n",
        "cosine_similarity_udf = udf(cosine_similarity, DoubleType())"
      ],
      "metadata": {
        "id": "qe29Qd1sjo7D"
      },
      "execution_count": 26,
      "outputs": []
    },
    {
      "cell_type": "markdown",
      "source": [
        "Recommend the top 10 songs based on a song track."
      ],
      "metadata": {
        "id": "9gfQrW8Q8B87"
      }
    },
    {
      "cell_type": "code",
      "source": [
        "from pyspark.sql.functions import col, lit\n",
        "import pyspark.sql.functions as F\n",
        "\n",
        "# Assuming `song_id` is a unique identifier for each song\n",
        "def recommend_songs(song_id, df):\n",
        "    # Filter out the target song\n",
        "    target_song = df.filter(df.track_id == song_id).select(\"features\").collect()[0][0]\n",
        "    #return target_song\n",
        "\n",
        "    # Add a column for the target song's features\n",
        "    df_with_similarity = df.withColumn(\"targetFeatures\", F.array([F.lit(x) for x in target_song]))\n",
        "    #df_with_similarity = df.withColumn(\"targetFeatures\", lit(target_song))\n",
        "\n",
        "    # Calculate cosine similarity between target song and all songs\n",
        "    df_with_similarity = df_with_similarity.withColumn(\"similarity\", cosine_similarity_udf(\"features\", \"targetFeatures\"))\n",
        "\n",
        "    # Sort by similarity and fetch top 10 songs\n",
        "    df_filtered = df_with_similarity.filter(df_with_similarity.track_id != song_id)\n",
        "    top_songs = df_filtered.sort(col(\"similarity\").desc()).limit(10)\n",
        "\n",
        "    return top_songs\n",
        "\n",
        "# Example usage\n",
        "song_id = '6DCZcSspjsKoFjzjrWoCdn'\n",
        "top_recommendations = recommend_songs(song_id, df_transformed)\n",
        "top_recommendations\n",
        "top_recommendations.show(truncate=False)"
      ],
      "metadata": {
        "colab": {
          "base_uri": "https://localhost:8080/",
          "height": 0
        },
        "id": "N8jN71EzHC8i",
        "outputId": "8710f2dc-0dca-4c08-8bd1-4e377e5fa55c"
      },
      "execution_count": 53,
      "outputs": [
        {
          "output_type": "stream",
          "name": "stdout",
          "text": [
            "+----------------------+------------------------+----------------------------------------------------+-----------------------------------------+----------+--------+------------+------+--------+----+-----------+------------+----------------+--------+-------+------+-----------+----------------------------------------------------------------------+--------------------------------------------------------------------------------------------------------------------------------------------------------------------------------------------------------------------------------------+------------+----------------+-------------------------------------------------------------------------------------------------------------------------------------------------------------------------------------------------------------------------------------------------------------------------------------------------------------------------------------------------------------------------------------------------------------------------------------------------------------------------------------------------------------------------------------------------------------------------------------------------------------------------------------------------------------------------------------------------------------------------------------------------------------------------------------------------------------------------------------+------------------------------------------------------------------------------------------------------------------------------------------------------------------------------------------------------------------------------------------------------------------------------------------------------------------------------------------------------------------------------------------------------------------------------------------------------------------------------------------------------------------------------------------------------------------------------------------------------------------------------------------------------------------------------------------------------------------------------------------------------------------------------------------------------------------------------------+------------------+\n",
            "|track_id              |artists                 |album_name                                          |track_name                               |popularity|explicit|danceability|energy|loudness|mode|speechiness|acousticness|instrumentalness|liveness|valence|tempo |track_genre|audio_vec                                                             |normFeatures                                                                                                                                                                                                                          |genreIndexed|genreVec        |features                                                                                                                                                                                                                                                                                                                                                                                                                                                                                                                                                                                                                                                                                                                                                                                                                             |targetFeatures                                                                                                                                                                                                                                                                                                                                                                                                                                                                                                                                                                                                                                                                                                                                                                                                                      |similarity        |\n",
            "+----------------------+------------------------+----------------------------------------------------+-----------------------------------------+----------+--------+------------+------+--------+----+-----------+------------+----------------+--------+-------+------+-----------+----------------------------------------------------------------------+--------------------------------------------------------------------------------------------------------------------------------------------------------------------------------------------------------------------------------------+------------+----------------+-------------------------------------------------------------------------------------------------------------------------------------------------------------------------------------------------------------------------------------------------------------------------------------------------------------------------------------------------------------------------------------------------------------------------------------------------------------------------------------------------------------------------------------------------------------------------------------------------------------------------------------------------------------------------------------------------------------------------------------------------------------------------------------------------------------------------------------+------------------------------------------------------------------------------------------------------------------------------------------------------------------------------------------------------------------------------------------------------------------------------------------------------------------------------------------------------------------------------------------------------------------------------------------------------------------------------------------------------------------------------------------------------------------------------------------------------------------------------------------------------------------------------------------------------------------------------------------------------------------------------------------------------------------------------------+------------------+\n",
            "|1DIXPcTDzTj8ZMHt3PDt8p|Coolio;L.V.             |Gangsta's Paradise                                  |Gangsta's Paradise                       |89        |false   |0.647       |0.514 |-10.05  |1   |0.0593     |0.0655      |0.0             |0.398   |0.386  |79.975|hip-hop    |[89.0,0.647,0.514,-10.05,1.0,0.0593,0.0655,0.0,0.398,0.386,79.975]    |[0.7411521270439226,0.00538792613704964,0.004280361722478384,-0.08369189749203847,0.008327551989257557,4.938238329629731E-4,5.4545465529637E-4,0.0,0.003314365691724508,0.003214435067853417,0.6659959703408731]                      |44.0        |(113,[44],[1.0])|[0.7411521270439226, 0.00538792613704964, 0.004280361722478384, -0.08369189749203847, 0.008327551989257557, 4.938238329629731E-4, 5.4545465529637E-4, 0.0, 0.003314365691724508, 0.003214435067853417, 0.6659959703408731, 0.0, 0.0, 0.0, 0.0, 0.0, 0.0, 0.0, 0.0, 0.0, 0.0, 0.0, 0.0, 0.0, 0.0, 0.0, 0.0, 0.0, 0.0, 0.0, 0.0, 0.0, 0.0, 0.0, 0.0, 0.0, 0.0, 0.0, 0.0, 0.0, 0.0, 0.0, 0.0, 0.0, 0.0, 0.0, 0.0, 0.0, 0.0, 0.0, 0.0, 0.0, 0.0, 0.0, 0.0, 1.0, 0.0, 0.0, 0.0, 0.0, 0.0, 0.0, 0.0, 0.0, 0.0, 0.0, 0.0, 0.0, 0.0, 0.0, 0.0, 0.0, 0.0, 0.0, 0.0, 0.0, 0.0, 0.0, 0.0, 0.0, 0.0, 0.0, 0.0, 0.0, 0.0, 0.0, 0.0, 0.0, 0.0, 0.0, 0.0, 0.0, 0.0, 0.0, 0.0, 0.0, 0.0, 0.0, 0.0, 0.0, 0.0, 0.0, 0.0, 0.0, 0.0, 0.0, 0.0, 0.0, 0.0, 0.0, 0.0, 0.0, 0.0, 0.0, 0.0, 0.0, 0.0, 0.0, 0.0, 0.0, 0.0, 0.0, 0.0, 0.0]                      |[0.7339642903599753, 0.0065882032729931116, 0.003923213885376535, -0.08048267950602063, 0.00873767012333304, 9.524060434433013E-4, 2.9009064809465694E-4, 7.243528532243089E-7, 0.004823193908079839, 0.003119348234029895, 0.6742772657474873, 0.0, 0.0, 0.0, 0.0, 0.0, 0.0, 0.0, 0.0, 0.0, 0.0, 0.0, 0.0, 0.0, 0.0, 0.0, 0.0, 0.0, 0.0, 0.0, 0.0, 0.0, 0.0, 0.0, 0.0, 0.0, 0.0, 0.0, 0.0, 0.0, 0.0, 0.0, 0.0, 0.0, 0.0, 0.0, 0.0, 0.0, 0.0, 0.0, 0.0, 0.0, 0.0, 0.0, 0.0, 1.0, 0.0, 0.0, 0.0, 0.0, 0.0, 0.0, 0.0, 0.0, 0.0, 0.0, 0.0, 0.0, 0.0, 0.0, 0.0, 0.0, 0.0, 0.0, 0.0, 0.0, 0.0, 0.0, 0.0, 0.0, 0.0, 0.0, 0.0, 0.0, 0.0, 0.0, 0.0, 0.0, 0.0, 0.0, 0.0, 0.0, 0.0, 0.0, 0.0, 0.0, 0.0, 0.0, 0.0, 0.0, 0.0, 0.0, 0.0, 0.0, 0.0, 0.0, 0.0, 0.0, 0.0, 0.0, 0.0, 0.0, 0.0, 0.0, 0.0, 0.0, 0.0, 0.0, 0.0, 0.0, 0.0, 0.0, 0.0, 0.0]|0.9999662896351023|\n",
            "|3eekarcy7kvN4yt5ZFzltW|Travis Scott            |HIGHEST IN THE ROOM                                 |HIGHEST IN THE ROOM                      |82        |true    |0.598       |0.427 |-8.764  |0   |0.0317     |0.0546      |5.83E-6         |0.21    |0.0605 |76.469|hip-hop    |[82.0,0.598,0.427,-8.764,0.0,0.0317,0.0546,5.83E-6,0.21,0.0605,76.469]|[0.7291004174171928,0.005317098166042454,0.003796657051672455,-0.07792482997858874,0.0,2.818595516112806E-4,4.8547418037778937E-4,5.183726138466139E-8,0.0018672083860684205,5.379338445578068E-4,0.6799217051155526]                 |44.0        |(113,[44],[1.0])|[0.7291004174171928, 0.005317098166042454, 0.003796657051672455, -0.07792482997858874, 0.0, 2.818595516112806E-4, 4.8547418037778937E-4, 5.183726138466139E-8, 0.0018672083860684205, 5.379338445578068E-4, 0.6799217051155526, 0.0, 0.0, 0.0, 0.0, 0.0, 0.0, 0.0, 0.0, 0.0, 0.0, 0.0, 0.0, 0.0, 0.0, 0.0, 0.0, 0.0, 0.0, 0.0, 0.0, 0.0, 0.0, 0.0, 0.0, 0.0, 0.0, 0.0, 0.0, 0.0, 0.0, 0.0, 0.0, 0.0, 0.0, 0.0, 0.0, 0.0, 0.0, 0.0, 0.0, 0.0, 0.0, 0.0, 0.0, 1.0, 0.0, 0.0, 0.0, 0.0, 0.0, 0.0, 0.0, 0.0, 0.0, 0.0, 0.0, 0.0, 0.0, 0.0, 0.0, 0.0, 0.0, 0.0, 0.0, 0.0, 0.0, 0.0, 0.0, 0.0, 0.0, 0.0, 0.0, 0.0, 0.0, 0.0, 0.0, 0.0, 0.0, 0.0, 0.0, 0.0, 0.0, 0.0, 0.0, 0.0, 0.0, 0.0, 0.0, 0.0, 0.0, 0.0, 0.0, 0.0, 0.0, 0.0, 0.0, 0.0, 0.0, 0.0, 0.0, 0.0, 0.0, 0.0, 0.0, 0.0, 0.0, 0.0, 0.0, 0.0, 0.0, 0.0, 0.0, 0.0]                 |[0.7339642903599753, 0.0065882032729931116, 0.003923213885376535, -0.08048267950602063, 0.00873767012333304, 9.524060434433013E-4, 2.9009064809465694E-4, 7.243528532243089E-7, 0.004823193908079839, 0.003119348234029895, 0.6742772657474873, 0.0, 0.0, 0.0, 0.0, 0.0, 0.0, 0.0, 0.0, 0.0, 0.0, 0.0, 0.0, 0.0, 0.0, 0.0, 0.0, 0.0, 0.0, 0.0, 0.0, 0.0, 0.0, 0.0, 0.0, 0.0, 0.0, 0.0, 0.0, 0.0, 0.0, 0.0, 0.0, 0.0, 0.0, 0.0, 0.0, 0.0, 0.0, 0.0, 0.0, 0.0, 0.0, 0.0, 0.0, 1.0, 0.0, 0.0, 0.0, 0.0, 0.0, 0.0, 0.0, 0.0, 0.0, 0.0, 0.0, 0.0, 0.0, 0.0, 0.0, 0.0, 0.0, 0.0, 0.0, 0.0, 0.0, 0.0, 0.0, 0.0, 0.0, 0.0, 0.0, 0.0, 0.0, 0.0, 0.0, 0.0, 0.0, 0.0, 0.0, 0.0, 0.0, 0.0, 0.0, 0.0, 0.0, 0.0, 0.0, 0.0, 0.0, 0.0, 0.0, 0.0, 0.0, 0.0, 0.0, 0.0, 0.0, 0.0, 0.0, 0.0, 0.0, 0.0, 0.0, 0.0, 0.0, 0.0, 0.0, 0.0, 0.0, 0.0, 0.0, 0.0]|0.999961018121893 |\n",
            "|7ycWLEP1GsNjVvcjawXz3z|A$AP Rocky;Skepta       |TESTING                                             |Praise The Lord (Da Shine) (feat. Skepta)|82        |true    |0.854       |0.569 |-8.151  |0   |0.106      |0.0609      |0.0816          |0.1     |0.294  |80.015|hip-hop    |[82.0,0.854,0.569,-8.151,0.0,0.106,0.0609,0.0816,0.1,0.294,80.015]    |[0.7138803790788947,0.007434802972358244,0.004953633362145013,-0.07096145085209841,0.0,9.228209778336931E-4,5.301867693403011E-4,7.103980357663147E-4,8.705858281449936E-4,0.002559522334746281,0.6965992503902165]                   |44.0        |(113,[44],[1.0])|[0.7138803790788947, 0.007434802972358244, 0.004953633362145013, -0.07096145085209841, 0.0, 9.228209778336931E-4, 5.301867693403011E-4, 7.103980357663147E-4, 8.705858281449936E-4, 0.002559522334746281, 0.6965992503902165, 0.0, 0.0, 0.0, 0.0, 0.0, 0.0, 0.0, 0.0, 0.0, 0.0, 0.0, 0.0, 0.0, 0.0, 0.0, 0.0, 0.0, 0.0, 0.0, 0.0, 0.0, 0.0, 0.0, 0.0, 0.0, 0.0, 0.0, 0.0, 0.0, 0.0, 0.0, 0.0, 0.0, 0.0, 0.0, 0.0, 0.0, 0.0, 0.0, 0.0, 0.0, 0.0, 0.0, 0.0, 1.0, 0.0, 0.0, 0.0, 0.0, 0.0, 0.0, 0.0, 0.0, 0.0, 0.0, 0.0, 0.0, 0.0, 0.0, 0.0, 0.0, 0.0, 0.0, 0.0, 0.0, 0.0, 0.0, 0.0, 0.0, 0.0, 0.0, 0.0, 0.0, 0.0, 0.0, 0.0, 0.0, 0.0, 0.0, 0.0, 0.0, 0.0, 0.0, 0.0, 0.0, 0.0, 0.0, 0.0, 0.0, 0.0, 0.0, 0.0, 0.0, 0.0, 0.0, 0.0, 0.0, 0.0, 0.0, 0.0, 0.0, 0.0, 0.0, 0.0, 0.0, 0.0, 0.0, 0.0, 0.0, 0.0, 0.0, 0.0, 0.0]                   |[0.7339642903599753, 0.0065882032729931116, 0.003923213885376535, -0.08048267950602063, 0.00873767012333304, 9.524060434433013E-4, 2.9009064809465694E-4, 7.243528532243089E-7, 0.004823193908079839, 0.003119348234029895, 0.6742772657474873, 0.0, 0.0, 0.0, 0.0, 0.0, 0.0, 0.0, 0.0, 0.0, 0.0, 0.0, 0.0, 0.0, 0.0, 0.0, 0.0, 0.0, 0.0, 0.0, 0.0, 0.0, 0.0, 0.0, 0.0, 0.0, 0.0, 0.0, 0.0, 0.0, 0.0, 0.0, 0.0, 0.0, 0.0, 0.0, 0.0, 0.0, 0.0, 0.0, 0.0, 0.0, 0.0, 0.0, 0.0, 1.0, 0.0, 0.0, 0.0, 0.0, 0.0, 0.0, 0.0, 0.0, 0.0, 0.0, 0.0, 0.0, 0.0, 0.0, 0.0, 0.0, 0.0, 0.0, 0.0, 0.0, 0.0, 0.0, 0.0, 0.0, 0.0, 0.0, 0.0, 0.0, 0.0, 0.0, 0.0, 0.0, 0.0, 0.0, 0.0, 0.0, 0.0, 0.0, 0.0, 0.0, 0.0, 0.0, 0.0, 0.0, 0.0, 0.0, 0.0, 0.0, 0.0, 0.0, 0.0, 0.0, 0.0, 0.0, 0.0, 0.0, 0.0, 0.0, 0.0, 0.0, 0.0, 0.0, 0.0, 0.0, 0.0, 0.0, 0.0, 0.0]|0.9997282719164544|\n",
            "|2JzZzZUQj3Qff7wapcbKjc|Wiz Khalifa;Charlie Puth|See You Again (feat. Charlie Puth)                  |See You Again (feat. Charlie Puth)       |82        |false   |0.689       |0.481 |-7.503  |1   |0.0815     |0.369       |1.03E-6         |0.0649  |0.283  |80.025|hip-hop    |[82.0,0.689,0.481,-7.503,1.0,0.0815,0.369,1.03E-6,0.0649,0.283,80.025]|[0.714090981897562,0.006000105933261222,0.004188753198691797,-0.06533932484362694,0.008708426608506854,7.097367685933087E-4,0.0032134094185390294,8.969679406762062E-9,5.651768868920948E-4,0.0024644847302074395,0.6968918393457612] |44.0        |(113,[44],[1.0])|[0.714090981897562, 0.006000105933261222, 0.004188753198691797, -0.06533932484362694, 0.008708426608506854, 7.097367685933087E-4, 0.0032134094185390294, 8.969679406762062E-9, 5.651768868920948E-4, 0.0024644847302074395, 0.6968918393457612, 0.0, 0.0, 0.0, 0.0, 0.0, 0.0, 0.0, 0.0, 0.0, 0.0, 0.0, 0.0, 0.0, 0.0, 0.0, 0.0, 0.0, 0.0, 0.0, 0.0, 0.0, 0.0, 0.0, 0.0, 0.0, 0.0, 0.0, 0.0, 0.0, 0.0, 0.0, 0.0, 0.0, 0.0, 0.0, 0.0, 0.0, 0.0, 0.0, 0.0, 0.0, 0.0, 0.0, 0.0, 1.0, 0.0, 0.0, 0.0, 0.0, 0.0, 0.0, 0.0, 0.0, 0.0, 0.0, 0.0, 0.0, 0.0, 0.0, 0.0, 0.0, 0.0, 0.0, 0.0, 0.0, 0.0, 0.0, 0.0, 0.0, 0.0, 0.0, 0.0, 0.0, 0.0, 0.0, 0.0, 0.0, 0.0, 0.0, 0.0, 0.0, 0.0, 0.0, 0.0, 0.0, 0.0, 0.0, 0.0, 0.0, 0.0, 0.0, 0.0, 0.0, 0.0, 0.0, 0.0, 0.0, 0.0, 0.0, 0.0, 0.0, 0.0, 0.0, 0.0, 0.0, 0.0, 0.0, 0.0, 0.0, 0.0, 0.0, 0.0, 0.0] |[0.7339642903599753, 0.0065882032729931116, 0.003923213885376535, -0.08048267950602063, 0.00873767012333304, 9.524060434433013E-4, 2.9009064809465694E-4, 7.243528532243089E-7, 0.004823193908079839, 0.003119348234029895, 0.6742772657474873, 0.0, 0.0, 0.0, 0.0, 0.0, 0.0, 0.0, 0.0, 0.0, 0.0, 0.0, 0.0, 0.0, 0.0, 0.0, 0.0, 0.0, 0.0, 0.0, 0.0, 0.0, 0.0, 0.0, 0.0, 0.0, 0.0, 0.0, 0.0, 0.0, 0.0, 0.0, 0.0, 0.0, 0.0, 0.0, 0.0, 0.0, 0.0, 0.0, 0.0, 0.0, 0.0, 0.0, 0.0, 1.0, 0.0, 0.0, 0.0, 0.0, 0.0, 0.0, 0.0, 0.0, 0.0, 0.0, 0.0, 0.0, 0.0, 0.0, 0.0, 0.0, 0.0, 0.0, 0.0, 0.0, 0.0, 0.0, 0.0, 0.0, 0.0, 0.0, 0.0, 0.0, 0.0, 0.0, 0.0, 0.0, 0.0, 0.0, 0.0, 0.0, 0.0, 0.0, 0.0, 0.0, 0.0, 0.0, 0.0, 0.0, 0.0, 0.0, 0.0, 0.0, 0.0, 0.0, 0.0, 0.0, 0.0, 0.0, 0.0, 0.0, 0.0, 0.0, 0.0, 0.0, 0.0, 0.0, 0.0, 0.0, 0.0, 0.0, 0.0, 0.0]|0.9997091825049551|\n",
            "|3ee8Jmje8o58CHK66QrVC2|XXXTENTACION            |?                                                   |SAD!                                     |83        |true    |0.74        |0.613 |-4.88   |1   |0.145      |0.258       |0.00372         |0.123   |0.473  |75.023|hip-hop    |[83.0,0.74,0.613,-4.88,1.0,0.145,0.258,0.00372,0.123,0.473,75.023]    |[0.7410857624678714,0.00660727065332801,0.005473320149310905,-0.043572271335460384,0.008928744126118932,0.001294667898287245,0.0023036159845386847,3.321492814916243E-5,0.0010982355275126286,0.004223295971654255,0.6698611705738206]|44.0        |(113,[44],[1.0])|[0.7410857624678714, 0.00660727065332801, 0.005473320149310905, -0.043572271335460384, 0.008928744126118932, 0.001294667898287245, 0.0023036159845386847, 3.321492814916243E-5, 0.0010982355275126286, 0.004223295971654255, 0.6698611705738206, 0.0, 0.0, 0.0, 0.0, 0.0, 0.0, 0.0, 0.0, 0.0, 0.0, 0.0, 0.0, 0.0, 0.0, 0.0, 0.0, 0.0, 0.0, 0.0, 0.0, 0.0, 0.0, 0.0, 0.0, 0.0, 0.0, 0.0, 0.0, 0.0, 0.0, 0.0, 0.0, 0.0, 0.0, 0.0, 0.0, 0.0, 0.0, 0.0, 0.0, 0.0, 0.0, 0.0, 0.0, 1.0, 0.0, 0.0, 0.0, 0.0, 0.0, 0.0, 0.0, 0.0, 0.0, 0.0, 0.0, 0.0, 0.0, 0.0, 0.0, 0.0, 0.0, 0.0, 0.0, 0.0, 0.0, 0.0, 0.0, 0.0, 0.0, 0.0, 0.0, 0.0, 0.0, 0.0, 0.0, 0.0, 0.0, 0.0, 0.0, 0.0, 0.0, 0.0, 0.0, 0.0, 0.0, 0.0, 0.0, 0.0, 0.0, 0.0, 0.0, 0.0, 0.0, 0.0, 0.0, 0.0, 0.0, 0.0, 0.0, 0.0, 0.0, 0.0, 0.0, 0.0, 0.0, 0.0, 0.0, 0.0, 0.0, 0.0, 0.0, 0.0]|[0.7339642903599753, 0.0065882032729931116, 0.003923213885376535, -0.08048267950602063, 0.00873767012333304, 9.524060434433013E-4, 2.9009064809465694E-4, 7.243528532243089E-7, 0.004823193908079839, 0.003119348234029895, 0.6742772657474873, 0.0, 0.0, 0.0, 0.0, 0.0, 0.0, 0.0, 0.0, 0.0, 0.0, 0.0, 0.0, 0.0, 0.0, 0.0, 0.0, 0.0, 0.0, 0.0, 0.0, 0.0, 0.0, 0.0, 0.0, 0.0, 0.0, 0.0, 0.0, 0.0, 0.0, 0.0, 0.0, 0.0, 0.0, 0.0, 0.0, 0.0, 0.0, 0.0, 0.0, 0.0, 0.0, 0.0, 0.0, 1.0, 0.0, 0.0, 0.0, 0.0, 0.0, 0.0, 0.0, 0.0, 0.0, 0.0, 0.0, 0.0, 0.0, 0.0, 0.0, 0.0, 0.0, 0.0, 0.0, 0.0, 0.0, 0.0, 0.0, 0.0, 0.0, 0.0, 0.0, 0.0, 0.0, 0.0, 0.0, 0.0, 0.0, 0.0, 0.0, 0.0, 0.0, 0.0, 0.0, 0.0, 0.0, 0.0, 0.0, 0.0, 0.0, 0.0, 0.0, 0.0, 0.0, 0.0, 0.0, 0.0, 0.0, 0.0, 0.0, 0.0, 0.0, 0.0, 0.0, 0.0, 0.0, 0.0, 0.0, 0.0, 0.0, 0.0, 0.0, 0.0]|0.9996364245765514|\n",
            "|59nOXPmaKlBfGMDeOVGrIK|Future;Drake;Tems       |I NEVER LIKED YOU                                   |WAIT FOR U (feat. Drake & Tems)          |89        |true    |0.463       |0.642 |-4.474  |1   |0.34       |0.314       |0.0             |0.0686  |0.339  |83.389|hip-hop    |[89.0,0.463,0.642,-4.474,1.0,0.34,0.314,0.0,0.0686,0.339,83.389]      |[0.7291971061660077,0.003793463597245636,0.005260051035489629,-0.036656492730187853,0.008193225911977615,0.002785696810072389,0.002572672936360971,0.0,5.620552975616643E-4,0.0027775035841604116,0.6832249155739013]                 |44.0        |(113,[44],[1.0])|[0.7291971061660077, 0.003793463597245636, 0.005260051035489629, -0.036656492730187853, 0.008193225911977615, 0.002785696810072389, 0.002572672936360971, 0.0, 5.620552975616643E-4, 0.0027775035841604116, 0.6832249155739013, 0.0, 0.0, 0.0, 0.0, 0.0, 0.0, 0.0, 0.0, 0.0, 0.0, 0.0, 0.0, 0.0, 0.0, 0.0, 0.0, 0.0, 0.0, 0.0, 0.0, 0.0, 0.0, 0.0, 0.0, 0.0, 0.0, 0.0, 0.0, 0.0, 0.0, 0.0, 0.0, 0.0, 0.0, 0.0, 0.0, 0.0, 0.0, 0.0, 0.0, 0.0, 0.0, 0.0, 0.0, 1.0, 0.0, 0.0, 0.0, 0.0, 0.0, 0.0, 0.0, 0.0, 0.0, 0.0, 0.0, 0.0, 0.0, 0.0, 0.0, 0.0, 0.0, 0.0, 0.0, 0.0, 0.0, 0.0, 0.0, 0.0, 0.0, 0.0, 0.0, 0.0, 0.0, 0.0, 0.0, 0.0, 0.0, 0.0, 0.0, 0.0, 0.0, 0.0, 0.0, 0.0, 0.0, 0.0, 0.0, 0.0, 0.0, 0.0, 0.0, 0.0, 0.0, 0.0, 0.0, 0.0, 0.0, 0.0, 0.0, 0.0, 0.0, 0.0, 0.0, 0.0, 0.0, 0.0, 0.0, 0.0, 0.0, 0.0, 0.0, 0.0]                 |[0.7339642903599753, 0.0065882032729931116, 0.003923213885376535, -0.08048267950602063, 0.00873767012333304, 9.524060434433013E-4, 2.9009064809465694E-4, 7.243528532243089E-7, 0.004823193908079839, 0.003119348234029895, 0.6742772657474873, 0.0, 0.0, 0.0, 0.0, 0.0, 0.0, 0.0, 0.0, 0.0, 0.0, 0.0, 0.0, 0.0, 0.0, 0.0, 0.0, 0.0, 0.0, 0.0, 0.0, 0.0, 0.0, 0.0, 0.0, 0.0, 0.0, 0.0, 0.0, 0.0, 0.0, 0.0, 0.0, 0.0, 0.0, 0.0, 0.0, 0.0, 0.0, 0.0, 0.0, 0.0, 0.0, 0.0, 0.0, 1.0, 0.0, 0.0, 0.0, 0.0, 0.0, 0.0, 0.0, 0.0, 0.0, 0.0, 0.0, 0.0, 0.0, 0.0, 0.0, 0.0, 0.0, 0.0, 0.0, 0.0, 0.0, 0.0, 0.0, 0.0, 0.0, 0.0, 0.0, 0.0, 0.0, 0.0, 0.0, 0.0, 0.0, 0.0, 0.0, 0.0, 0.0, 0.0, 0.0, 0.0, 0.0, 0.0, 0.0, 0.0, 0.0, 0.0, 0.0, 0.0, 0.0, 0.0, 0.0, 0.0, 0.0, 0.0, 0.0, 0.0, 0.0, 0.0, 0.0, 0.0, 0.0, 0.0, 0.0, 0.0, 0.0, 0.0, 0.0, 0.0]|0.999484934862432 |\n",
            "|3UmaczJpikHgJFyBTAJVoz|Eminem;Dido             |The Marshall Mathers LP                             |Stan                                     |85        |true    |0.78        |0.768 |-4.325  |0   |0.238      |0.0371      |2.34E-6         |0.518   |0.507  |80.063|hip-hop    |[85.0,0.78,0.768,-4.325,0.0,0.238,0.0371,2.34E-6,0.518,0.507,80.063]  |[0.727384412399437,0.006674821666724246,0.006572132102620796,-0.03701103039561841,0.0,0.0020366763547184238,3.1748190235316603E-4,2.0024465000172736E-8,0.004432766183798923,0.00433863408337076,0.6851362142345426]                  |44.0        |(113,[44],[1.0])|[0.727384412399437, 0.006674821666724246, 0.006572132102620796, -0.03701103039561841, 0.0, 0.0020366763547184238, 3.1748190235316603E-4, 2.0024465000172736E-8, 0.004432766183798923, 0.00433863408337076, 0.6851362142345426, 0.0, 0.0, 0.0, 0.0, 0.0, 0.0, 0.0, 0.0, 0.0, 0.0, 0.0, 0.0, 0.0, 0.0, 0.0, 0.0, 0.0, 0.0, 0.0, 0.0, 0.0, 0.0, 0.0, 0.0, 0.0, 0.0, 0.0, 0.0, 0.0, 0.0, 0.0, 0.0, 0.0, 0.0, 0.0, 0.0, 0.0, 0.0, 0.0, 0.0, 0.0, 0.0, 0.0, 0.0, 1.0, 0.0, 0.0, 0.0, 0.0, 0.0, 0.0, 0.0, 0.0, 0.0, 0.0, 0.0, 0.0, 0.0, 0.0, 0.0, 0.0, 0.0, 0.0, 0.0, 0.0, 0.0, 0.0, 0.0, 0.0, 0.0, 0.0, 0.0, 0.0, 0.0, 0.0, 0.0, 0.0, 0.0, 0.0, 0.0, 0.0, 0.0, 0.0, 0.0, 0.0, 0.0, 0.0, 0.0, 0.0, 0.0, 0.0, 0.0, 0.0, 0.0, 0.0, 0.0, 0.0, 0.0, 0.0, 0.0, 0.0, 0.0, 0.0, 0.0, 0.0, 0.0, 0.0, 0.0, 0.0, 0.0, 0.0, 0.0, 0.0]                  |[0.7339642903599753, 0.0065882032729931116, 0.003923213885376535, -0.08048267950602063, 0.00873767012333304, 9.524060434433013E-4, 2.9009064809465694E-4, 7.243528532243089E-7, 0.004823193908079839, 0.003119348234029895, 0.6742772657474873, 0.0, 0.0, 0.0, 0.0, 0.0, 0.0, 0.0, 0.0, 0.0, 0.0, 0.0, 0.0, 0.0, 0.0, 0.0, 0.0, 0.0, 0.0, 0.0, 0.0, 0.0, 0.0, 0.0, 0.0, 0.0, 0.0, 0.0, 0.0, 0.0, 0.0, 0.0, 0.0, 0.0, 0.0, 0.0, 0.0, 0.0, 0.0, 0.0, 0.0, 0.0, 0.0, 0.0, 0.0, 1.0, 0.0, 0.0, 0.0, 0.0, 0.0, 0.0, 0.0, 0.0, 0.0, 0.0, 0.0, 0.0, 0.0, 0.0, 0.0, 0.0, 0.0, 0.0, 0.0, 0.0, 0.0, 0.0, 0.0, 0.0, 0.0, 0.0, 0.0, 0.0, 0.0, 0.0, 0.0, 0.0, 0.0, 0.0, 0.0, 0.0, 0.0, 0.0, 0.0, 0.0, 0.0, 0.0, 0.0, 0.0, 0.0, 0.0, 0.0, 0.0, 0.0, 0.0, 0.0, 0.0, 0.0, 0.0, 0.0, 0.0, 0.0, 0.0, 0.0, 0.0, 0.0, 0.0, 0.0, 0.0, 0.0, 0.0, 0.0, 0.0]|0.9994657043832683|\n",
            "|4Znd47cztY1DEmoWWVcP74|King                    |Khwabeeda                                           |Sinner                                   |63        |false   |0.731       |0.694 |-4.314  |0   |0.0896     |0.721       |0.0             |0.154   |0.656  |62.995|hip-hop    |[63.0,0.731,0.694,-4.314,0.0,0.0896,0.721,0.0,0.154,0.656,62.995]     |[0.7062186261076855,0.008194378026741556,0.007779614706646566,-0.048359161159183414,0.0,0.001004399823797597,0.008082279832121288,0.0,0.00172631219715212,0.00735364156708955,0.7061625770103753]                                     |44.0        |(113,[44],[1.0])|[0.7062186261076855, 0.008194378026741556, 0.007779614706646566, -0.048359161159183414, 0.0, 0.001004399823797597, 0.008082279832121288, 0.0, 0.00172631219715212, 0.00735364156708955, 0.7061625770103753, 0.0, 0.0, 0.0, 0.0, 0.0, 0.0, 0.0, 0.0, 0.0, 0.0, 0.0, 0.0, 0.0, 0.0, 0.0, 0.0, 0.0, 0.0, 0.0, 0.0, 0.0, 0.0, 0.0, 0.0, 0.0, 0.0, 0.0, 0.0, 0.0, 0.0, 0.0, 0.0, 0.0, 0.0, 0.0, 0.0, 0.0, 0.0, 0.0, 0.0, 0.0, 0.0, 0.0, 0.0, 1.0, 0.0, 0.0, 0.0, 0.0, 0.0, 0.0, 0.0, 0.0, 0.0, 0.0, 0.0, 0.0, 0.0, 0.0, 0.0, 0.0, 0.0, 0.0, 0.0, 0.0, 0.0, 0.0, 0.0, 0.0, 0.0, 0.0, 0.0, 0.0, 0.0, 0.0, 0.0, 0.0, 0.0, 0.0, 0.0, 0.0, 0.0, 0.0, 0.0, 0.0, 0.0, 0.0, 0.0, 0.0, 0.0, 0.0, 0.0, 0.0, 0.0, 0.0, 0.0, 0.0, 0.0, 0.0, 0.0, 0.0, 0.0, 0.0, 0.0, 0.0, 0.0, 0.0, 0.0, 0.0, 0.0, 0.0, 0.0, 0.0]                                     |[0.7339642903599753, 0.0065882032729931116, 0.003923213885376535, -0.08048267950602063, 0.00873767012333304, 9.524060434433013E-4, 2.9009064809465694E-4, 7.243528532243089E-7, 0.004823193908079839, 0.003119348234029895, 0.6742772657474873, 0.0, 0.0, 0.0, 0.0, 0.0, 0.0, 0.0, 0.0, 0.0, 0.0, 0.0, 0.0, 0.0, 0.0, 0.0, 0.0, 0.0, 0.0, 0.0, 0.0, 0.0, 0.0, 0.0, 0.0, 0.0, 0.0, 0.0, 0.0, 0.0, 0.0, 0.0, 0.0, 0.0, 0.0, 0.0, 0.0, 0.0, 0.0, 0.0, 0.0, 0.0, 0.0, 0.0, 0.0, 1.0, 0.0, 0.0, 0.0, 0.0, 0.0, 0.0, 0.0, 0.0, 0.0, 0.0, 0.0, 0.0, 0.0, 0.0, 0.0, 0.0, 0.0, 0.0, 0.0, 0.0, 0.0, 0.0, 0.0, 0.0, 0.0, 0.0, 0.0, 0.0, 0.0, 0.0, 0.0, 0.0, 0.0, 0.0, 0.0, 0.0, 0.0, 0.0, 0.0, 0.0, 0.0, 0.0, 0.0, 0.0, 0.0, 0.0, 0.0, 0.0, 0.0, 0.0, 0.0, 0.0, 0.0, 0.0, 0.0, 0.0, 0.0, 0.0, 0.0, 0.0, 0.0, 0.0, 0.0, 0.0, 0.0, 0.0, 0.0, 0.0]|0.9992498863183874|\n",
            "|1PaxAUxLEVpi75l0nDtwu1|Hiphop Tamizha          |Meesaya Murukku (Original Motion Picture Soundtrack)|Sakkarakatti                             |65        |false   |0.607       |0.782 |-4.179  |1   |0.0856     |0.305       |0.0             |0.062   |0.747  |64.935|hip-hop    |[65.0,0.607,0.782,-4.179,1.0,0.0856,0.305,0.0,0.062,0.747,64.935]     |[0.7066194051081016,0.006598738136932579,0.008501174996839007,-0.045430192214565485,0.010871067770893871,9.305634011885153E-4,0.0033156756701226303,0.0,6.7400620179542E-4,0.00812068762485772,0.7059127857029935]                    |44.0        |(113,[44],[1.0])|[0.7066194051081016, 0.006598738136932579, 0.008501174996839007, -0.045430192214565485, 0.010871067770893871, 9.305634011885153E-4, 0.0033156756701226303, 0.0, 6.7400620179542E-4, 0.00812068762485772, 0.7059127857029935, 0.0, 0.0, 0.0, 0.0, 0.0, 0.0, 0.0, 0.0, 0.0, 0.0, 0.0, 0.0, 0.0, 0.0, 0.0, 0.0, 0.0, 0.0, 0.0, 0.0, 0.0, 0.0, 0.0, 0.0, 0.0, 0.0, 0.0, 0.0, 0.0, 0.0, 0.0, 0.0, 0.0, 0.0, 0.0, 0.0, 0.0, 0.0, 0.0, 0.0, 0.0, 0.0, 0.0, 0.0, 1.0, 0.0, 0.0, 0.0, 0.0, 0.0, 0.0, 0.0, 0.0, 0.0, 0.0, 0.0, 0.0, 0.0, 0.0, 0.0, 0.0, 0.0, 0.0, 0.0, 0.0, 0.0, 0.0, 0.0, 0.0, 0.0, 0.0, 0.0, 0.0, 0.0, 0.0, 0.0, 0.0, 0.0, 0.0, 0.0, 0.0, 0.0, 0.0, 0.0, 0.0, 0.0, 0.0, 0.0, 0.0, 0.0, 0.0, 0.0, 0.0, 0.0, 0.0, 0.0, 0.0, 0.0, 0.0, 0.0, 0.0, 0.0, 0.0, 0.0, 0.0, 0.0, 0.0, 0.0, 0.0, 0.0, 0.0, 0.0, 0.0]                    |[0.7339642903599753, 0.0065882032729931116, 0.003923213885376535, -0.08048267950602063, 0.00873767012333304, 9.524060434433013E-4, 2.9009064809465694E-4, 7.243528532243089E-7, 0.004823193908079839, 0.003119348234029895, 0.6742772657474873, 0.0, 0.0, 0.0, 0.0, 0.0, 0.0, 0.0, 0.0, 0.0, 0.0, 0.0, 0.0, 0.0, 0.0, 0.0, 0.0, 0.0, 0.0, 0.0, 0.0, 0.0, 0.0, 0.0, 0.0, 0.0, 0.0, 0.0, 0.0, 0.0, 0.0, 0.0, 0.0, 0.0, 0.0, 0.0, 0.0, 0.0, 0.0, 0.0, 0.0, 0.0, 0.0, 0.0, 0.0, 1.0, 0.0, 0.0, 0.0, 0.0, 0.0, 0.0, 0.0, 0.0, 0.0, 0.0, 0.0, 0.0, 0.0, 0.0, 0.0, 0.0, 0.0, 0.0, 0.0, 0.0, 0.0, 0.0, 0.0, 0.0, 0.0, 0.0, 0.0, 0.0, 0.0, 0.0, 0.0, 0.0, 0.0, 0.0, 0.0, 0.0, 0.0, 0.0, 0.0, 0.0, 0.0, 0.0, 0.0, 0.0, 0.0, 0.0, 0.0, 0.0, 0.0, 0.0, 0.0, 0.0, 0.0, 0.0, 0.0, 0.0, 0.0, 0.0, 0.0, 0.0, 0.0, 0.0, 0.0, 0.0, 0.0, 0.0, 0.0, 0.0]|0.9992364703103171|\n",
            "|1r8ZCjfrQxoy2wVaBUbpwg|The Kid LAROI           |Thousand Miles                                      |Thousand Miles                           |81        |true    |0.376       |0.657 |-4.658  |1   |0.0768     |0.0858      |0.0             |0.0884  |0.203  |80.565|hip-hop    |[81.0,0.376,0.657,-4.658,1.0,0.0768,0.0858,0.0,0.0884,0.203,80.565]   |[0.7083751454950971,0.0032882599346439074,0.005745709513460232,-0.04073594355205139,0.008745372166606136,6.716445823953512E-4,7.503529318948066E-4,0.0,7.730908995279825E-4,0.001775310549821046,0.7045709086026234]                  |44.0        |(113,[44],[1.0])|[0.7083751454950971, 0.0032882599346439074, 0.005745709513460232, -0.04073594355205139, 0.008745372166606136, 6.716445823953512E-4, 7.503529318948066E-4, 0.0, 7.730908995279825E-4, 0.001775310549821046, 0.7045709086026234, 0.0, 0.0, 0.0, 0.0, 0.0, 0.0, 0.0, 0.0, 0.0, 0.0, 0.0, 0.0, 0.0, 0.0, 0.0, 0.0, 0.0, 0.0, 0.0, 0.0, 0.0, 0.0, 0.0, 0.0, 0.0, 0.0, 0.0, 0.0, 0.0, 0.0, 0.0, 0.0, 0.0, 0.0, 0.0, 0.0, 0.0, 0.0, 0.0, 0.0, 0.0, 0.0, 0.0, 0.0, 1.0, 0.0, 0.0, 0.0, 0.0, 0.0, 0.0, 0.0, 0.0, 0.0, 0.0, 0.0, 0.0, 0.0, 0.0, 0.0, 0.0, 0.0, 0.0, 0.0, 0.0, 0.0, 0.0, 0.0, 0.0, 0.0, 0.0, 0.0, 0.0, 0.0, 0.0, 0.0, 0.0, 0.0, 0.0, 0.0, 0.0, 0.0, 0.0, 0.0, 0.0, 0.0, 0.0, 0.0, 0.0, 0.0, 0.0, 0.0, 0.0, 0.0, 0.0, 0.0, 0.0, 0.0, 0.0, 0.0, 0.0, 0.0, 0.0, 0.0, 0.0, 0.0, 0.0, 0.0, 0.0, 0.0, 0.0, 0.0, 0.0]                  |[0.7339642903599753, 0.0065882032729931116, 0.003923213885376535, -0.08048267950602063, 0.00873767012333304, 9.524060434433013E-4, 2.9009064809465694E-4, 7.243528532243089E-7, 0.004823193908079839, 0.003119348234029895, 0.6742772657474873, 0.0, 0.0, 0.0, 0.0, 0.0, 0.0, 0.0, 0.0, 0.0, 0.0, 0.0, 0.0, 0.0, 0.0, 0.0, 0.0, 0.0, 0.0, 0.0, 0.0, 0.0, 0.0, 0.0, 0.0, 0.0, 0.0, 0.0, 0.0, 0.0, 0.0, 0.0, 0.0, 0.0, 0.0, 0.0, 0.0, 0.0, 0.0, 0.0, 0.0, 0.0, 0.0, 0.0, 0.0, 1.0, 0.0, 0.0, 0.0, 0.0, 0.0, 0.0, 0.0, 0.0, 0.0, 0.0, 0.0, 0.0, 0.0, 0.0, 0.0, 0.0, 0.0, 0.0, 0.0, 0.0, 0.0, 0.0, 0.0, 0.0, 0.0, 0.0, 0.0, 0.0, 0.0, 0.0, 0.0, 0.0, 0.0, 0.0, 0.0, 0.0, 0.0, 0.0, 0.0, 0.0, 0.0, 0.0, 0.0, 0.0, 0.0, 0.0, 0.0, 0.0, 0.0, 0.0, 0.0, 0.0, 0.0, 0.0, 0.0, 0.0, 0.0, 0.0, 0.0, 0.0, 0.0, 0.0, 0.0, 0.0, 0.0, 0.0, 0.0, 0.0]|0.9992037440581033|\n",
            "+----------------------+------------------------+----------------------------------------------------+-----------------------------------------+----------+--------+------------+------+--------+----+-----------+------------+----------------+--------+-------+------+-----------+----------------------------------------------------------------------+--------------------------------------------------------------------------------------------------------------------------------------------------------------------------------------------------------------------------------------+------------+----------------+-------------------------------------------------------------------------------------------------------------------------------------------------------------------------------------------------------------------------------------------------------------------------------------------------------------------------------------------------------------------------------------------------------------------------------------------------------------------------------------------------------------------------------------------------------------------------------------------------------------------------------------------------------------------------------------------------------------------------------------------------------------------------------------------------------------------------------------+------------------------------------------------------------------------------------------------------------------------------------------------------------------------------------------------------------------------------------------------------------------------------------------------------------------------------------------------------------------------------------------------------------------------------------------------------------------------------------------------------------------------------------------------------------------------------------------------------------------------------------------------------------------------------------------------------------------------------------------------------------------------------------------------------------------------------------+------------------+\n",
            "\n"
          ]
        }
      ]
    },
    {
      "cell_type": "code",
      "source": [
        "df_transformed.filter(df_transformed.artists == 'Drake').show(truncate=False)"
      ],
      "metadata": {
        "colab": {
          "base_uri": "https://localhost:8080/",
          "height": 0
        },
        "id": "m_NjBXQNpSeY",
        "outputId": "dd4954b6-d4a6-4688-d651-807bfc10f0ee"
      },
      "execution_count": 32,
      "outputs": [
        {
          "output_type": "stream",
          "name": "stdout",
          "text": [
            "+----------------------+-------+----------+----------+----------+--------+------------+------+--------+----+-----------+------------+----------------+--------+-------+------+-----------+---------------------------------------------------------------------+-------------------------------------------------------------------------------------------------------------------------------------------------------------------------------------------------------------------------------------+------------+----------------+------------------------------------------------------------------------------------------------------------------------------------------------------------------------------------------------------------------------------------------------------------------------------------------------------------------------------------------------------------------------------------------------------------------------------------------------------------------------------------------------------------------------------------------------------------------------------------------------------------------------------------------------------------------------------------------------------------------------------------------------------------------------------------------------------------------------------------+\n",
            "|track_id              |artists|album_name|track_name|popularity|explicit|danceability|energy|loudness|mode|speechiness|acousticness|instrumentalness|liveness|valence|tempo |track_genre|audio_vec                                                            |normFeatures                                                                                                                                                                                                                         |genreIndexed|genreVec        |features                                                                                                                                                                                                                                                                                                                                                                                                                                                                                                                                                                                                                                                                                                                                                                                                                            |\n",
            "+----------------------+-------+----------+----------+----------+--------+------------+------+--------+----+-----------+------------+----------------+--------+-------+------+-----------+---------------------------------------------------------------------+-------------------------------------------------------------------------------------------------------------------------------------------------------------------------------------------------------------------------------------+------------+----------------+------------------------------------------------------------------------------------------------------------------------------------------------------------------------------------------------------------------------------------------------------------------------------------------------------------------------------------------------------------------------------------------------------------------------------------------------------------------------------------------------------------------------------------------------------------------------------------------------------------------------------------------------------------------------------------------------------------------------------------------------------------------------------------------------------------------------------------+\n",
            "|6DCZcSspjsKoFjzjrWoCdn|Drake  |Scorpion  |God's Plan|84        |true    |0.754       |0.449 |-9.211  |1   |0.109      |0.0332      |8.29E-5         |0.552   |0.357  |77.169|hip-hop    |[84.0,0.754,0.449,-9.211,1.0,0.109,0.0332,8.29E-5,0.552,0.357,77.169]|[0.7339642903599753,0.0065882032729931116,0.003923213885376535,-0.08048267950602063,0.00873767012333304,9.524060434433013E-4,2.9009064809465694E-4,7.243528532243089E-7,0.004823193908079839,0.003119348234029895,0.6742772657474873]|44.0        |(113,[44],[1.0])|[0.7339642903599753, 0.0065882032729931116, 0.003923213885376535, -0.08048267950602063, 0.00873767012333304, 9.524060434433013E-4, 2.9009064809465694E-4, 7.243528532243089E-7, 0.004823193908079839, 0.003119348234029895, 0.6742772657474873, 0.0, 0.0, 0.0, 0.0, 0.0, 0.0, 0.0, 0.0, 0.0, 0.0, 0.0, 0.0, 0.0, 0.0, 0.0, 0.0, 0.0, 0.0, 0.0, 0.0, 0.0, 0.0, 0.0, 0.0, 0.0, 0.0, 0.0, 0.0, 0.0, 0.0, 0.0, 0.0, 0.0, 0.0, 0.0, 0.0, 0.0, 0.0, 0.0, 0.0, 0.0, 0.0, 0.0, 0.0, 1.0, 0.0, 0.0, 0.0, 0.0, 0.0, 0.0, 0.0, 0.0, 0.0, 0.0, 0.0, 0.0, 0.0, 0.0, 0.0, 0.0, 0.0, 0.0, 0.0, 0.0, 0.0, 0.0, 0.0, 0.0, 0.0, 0.0, 0.0, 0.0, 0.0, 0.0, 0.0, 0.0, 0.0, 0.0, 0.0, 0.0, 0.0, 0.0, 0.0, 0.0, 0.0, 0.0, 0.0, 0.0, 0.0, 0.0, 0.0, 0.0, 0.0, 0.0, 0.0, 0.0, 0.0, 0.0, 0.0, 0.0, 0.0, 0.0, 0.0, 0.0, 0.0, 0.0, 0.0, 0.0, 0.0, 0.0, 0.0, 0.0]|\n",
            "+----------------------+-------+----------+----------+----------+--------+------------+------+--------+----+-----------+------------+----------------+--------+-------+------+-----------+---------------------------------------------------------------------+-------------------------------------------------------------------------------------------------------------------------------------------------------------------------------------------------------------------------------------+------------+----------------+------------------------------------------------------------------------------------------------------------------------------------------------------------------------------------------------------------------------------------------------------------------------------------------------------------------------------------------------------------------------------------------------------------------------------------------------------------------------------------------------------------------------------------------------------------------------------------------------------------------------------------------------------------------------------------------------------------------------------------------------------------------------------------------------------------------------------------+\n",
            "\n"
          ]
        }
      ]
    },
    {
      "cell_type": "markdown",
      "source": [
        "# Find similar songs"
      ],
      "metadata": {
        "id": "5gLwQMS6rhhT"
      }
    },
    {
      "cell_type": "markdown",
      "source": [
        "The function takes in a query and returns the data we want about a song to search for."
      ],
      "metadata": {
        "id": "PBy2PF_-8QG1"
      }
    },
    {
      "cell_type": "code",
      "source": [
        "def search_songs_in_df(query):\n",
        "    # Filter DataFrame where song_name contains the query string (case-insensitive)\n",
        "    filtered_df = df_transformed.filter(df_transformed.track_name.contains(query)).select(\"track_id\", \"track_name\", 'artists', 'album_name').limit(10)\n",
        "    return filtered_df"
      ],
      "metadata": {
        "id": "Qy9r_ofjr0XY"
      },
      "execution_count": 43,
      "outputs": []
    },
    {
      "cell_type": "code",
      "source": [
        "import ipywidgets as widgets\n",
        "from IPython.display import display, clear_output\n",
        "\n",
        "# Input text and button for the search\n",
        "text = widgets.Text(value='', placeholder='Type a song name', description='Search:', disabled=False)\n",
        "button = widgets.Button(description=\"Search\")\n",
        "\n",
        "# Dropdown for selecting a song from search results\n",
        "dropdown = widgets.Dropdown(options=['Select a song'], description='Results:', disabled=False)\n",
        "\n",
        "# Output widget for displaying the track ID\n",
        "output = widgets.Output()\n",
        "\n",
        "display(text, button, dropdown, output)\n",
        "\n",
        "\n",
        "def on_button_clicked(b):\n",
        "    with output:\n",
        "        clear_output()\n",
        "        query = text.value\n",
        "        if query:\n",
        "            results_df = search_songs_in_df(query).collect()\n",
        "            # Update dropdown options with search results\n",
        "            dropdown.options = [(row.track_name, row.artists, row.album_name, row.track_id) for row in results_df]\n",
        "            dropdown.disabled = False if results_df else True\n",
        "        else:\n",
        "            print(\"Please enter a query.\")\n",
        "\n",
        "def on_dropdown_change(change):\n",
        "    with output:\n",
        "        if change['name'] == 'value' and change['new']:\n",
        "            clear_output()\n",
        "            print(f\"Track Name: {change['new'][0]}\")\n",
        "            print(f\"Artist: {change['new'][1]}\")\n",
        "            print(f\"Album: {change['new'][2]}\")\n",
        "            print(f\"Track ID: {change['new'][3]}\")\n",
        "\n",
        "            song_id = change['new'][3]\n",
        "            top_recommendations = recommend_songs(song_id, df_transformed)\n",
        "            top_recommendations.select(\"track_name\", \"artists\", \"album_name\").show(truncate=False)\n",
        "\n",
        "\n",
        "button.on_click(on_button_clicked)\n",
        "dropdown.observe(on_dropdown_change, names='value')\n"
      ],
      "metadata": {
        "colab": {
          "base_uri": "https://localhost:8080/",
          "height": 443,
          "referenced_widgets": [
            "00bd52cab86c45e4af25320f84e4c1b8",
            "70c103376a33422c8cac6f5e97486fc6",
            "aa6d044c7e8d4a21aaf47fe9d157f81f",
            "1f9edae771f64ce1be2484db07772b5d",
            "c6bcf8c43e2447b385f13ff7143d23b9",
            "a4c6fc1663d0488cab603faae6b62b6e",
            "7c1e1188a8894957905cfc687de199dc",
            "993e30338371491db69cb5b88e14c815",
            "2c664aaf47d0403a91af506f68f89f73",
            "46fe9142c329499aa438dacb8315bb81",
            "480a8db22e90450ea4b8e80fa9797034"
          ]
        },
        "id": "76Stf8EnscPz",
        "outputId": "2b18f6e6-a322-46a4-83a4-ef81f8dc84eb"
      },
      "execution_count": 59,
      "outputs": [
        {
          "output_type": "display_data",
          "data": {
            "text/plain": [
              "Text(value='', description='Search:', placeholder='Type a song name')"
            ],
            "application/vnd.jupyter.widget-view+json": {
              "version_major": 2,
              "version_minor": 0,
              "model_id": "00bd52cab86c45e4af25320f84e4c1b8"
            }
          },
          "metadata": {}
        },
        {
          "output_type": "display_data",
          "data": {
            "text/plain": [
              "Button(description='Search', style=ButtonStyle())"
            ],
            "application/vnd.jupyter.widget-view+json": {
              "version_major": 2,
              "version_minor": 0,
              "model_id": "1f9edae771f64ce1be2484db07772b5d"
            }
          },
          "metadata": {}
        },
        {
          "output_type": "display_data",
          "data": {
            "text/plain": [
              "Dropdown(description='Results:', options=('Select a song',), value='Select a song')"
            ],
            "application/vnd.jupyter.widget-view+json": {
              "version_major": 2,
              "version_minor": 0,
              "model_id": "7c1e1188a8894957905cfc687de199dc"
            }
          },
          "metadata": {}
        },
        {
          "output_type": "display_data",
          "data": {
            "text/plain": [
              "Output()"
            ],
            "application/vnd.jupyter.widget-view+json": {
              "version_major": 2,
              "version_minor": 0,
              "model_id": "46fe9142c329499aa438dacb8315bb81"
            }
          },
          "metadata": {}
        }
      ]
    },
    {
      "cell_type": "markdown",
      "source": [
        "Fin"
      ],
      "metadata": {
        "id": "FmSBWJKT-Rcp"
      }
    }
  ]
}